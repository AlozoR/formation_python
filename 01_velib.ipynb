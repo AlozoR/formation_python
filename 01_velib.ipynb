{
 "cells": [
  {
   "cell_type": "markdown",
   "metadata": {},
   "source": [
    "# Debut"
   ]
  },
  {
   "cell_type": "code",
   "execution_count": 423,
   "metadata": {},
   "outputs": [],
   "source": [
    "!git add 01_velib.ipynb"
   ]
  },
  {
   "cell_type": "code",
   "execution_count": 424,
   "metadata": {},
   "outputs": [
    {
     "name": "stdout",
     "output_type": "stream",
     "text": [
      "[master d15e9dd2] working\n",
      " 1 file changed, 1456 insertions(+), 3031 deletions(-)\n",
      " rewrite 01_velib.ipynb (81%)\n"
     ]
    }
   ],
   "source": [
    "!git commit -m \"working\"\n"
   ]
  },
  {
   "cell_type": "code",
   "execution_count": 425,
   "metadata": {},
   "outputs": [
    {
     "name": "stdout",
     "output_type": "stream",
     "text": [
      "Counting objects: 3, done.\n",
      "Delta compression using up to 8 threads.\n",
      "Compressing objects: 100% (3/3), done.\n",
      "Writing objects: 100% (3/3), 27.18 KiB | 13.59 MiB/s, done.\n",
      "Total 3 (delta 1), reused 0 (delta 0)\n",
      "remote: Resolving deltas: 100% (1/1), completed with 1 local object.\u001b[K\n",
      "To https://github.com/romainjouin/formation_python\n",
      "   6feca4d6..d15e9dd2  master -> master\n"
     ]
    }
   ],
   "source": [
    "!git push"
   ]
  },
  {
   "cell_type": "code",
   "execution_count": 219,
   "metadata": {},
   "outputs": [],
   "source": [
    "def random_float(min=0, max=9):\n",
    "    import random\n",
    "    entier = random.randint(min, max)\n",
    "    float_ = random.random()\n",
    "    return entier+float_"
   ]
  },
  {
   "cell_type": "code",
   "execution_count": 539,
   "metadata": {},
   "outputs": [],
   "source": [
    "class Position():\n",
    "    def __init__(self, longitude, lattitude):\n",
    "        self.longitude = longitude\n",
    "        self.lattitude = lattitude\n",
    "    def get_df(self):\n",
    "        import pandas as pd\n",
    "        return pd.DataFrame(data    = [[self.longitude , self.lattitude]], \n",
    "                            columns = [\"longitude\"     , \"lattitude\"    ])    \n",
    "    def __str__(self):\n",
    "        return \"(lon:%.2f lat:%.2f)\"%(self.longitude, self.lattitude)\n",
    "    def is_same_position(self, other):\n",
    "        return self.lattitude==other.lattitude and self.longitude==other.longitude\n"
   ]
  },
  {
   "cell_type": "markdown",
   "metadata": {},
   "source": [
    "# 1) Logger"
   ]
  },
  {
   "cell_type": "code",
   "execution_count": 767,
   "metadata": {},
   "outputs": [],
   "source": [
    "class Logger():\n",
    "    def __init__(self, path, bufferlength=1, separator=\"\\n\", mode=\"a\"):\n",
    "        import os\n",
    "        if os.path.exists(path) :\n",
    "            msg = \"Attention : vous allez utiliser un fichier existant !\"\n",
    "            print (msg)\n",
    "            if (mode != \"a\"):\n",
    "                raise msg\n",
    "        self.path         = path\n",
    "        self.logs         = []\n",
    "        self.bufferlength = bufferlength\n",
    "        self.separator    = separator\n",
    "\n",
    "    def clean_msg(self, msg):\n",
    "        msg = str(msg)\n",
    "        if msg[-1] != \"\\n\": \n",
    "            msg = msg + \"\\n\"\n",
    "        return msg\n",
    "    \n",
    "    def log(self, msg, debug=False):\n",
    "        if debug: print(msg)\n",
    "        msg = self.clean_msg(msg)\n",
    "        import datetime\n",
    "        msg=str(datetime.datetime.now().isoformat())+\",\"+msg\n",
    "        self.logs.append(msg)\n",
    "        if self.bufferlength < len(self.logs):\n",
    "            self.write_to_disk()\n",
    "    \n",
    "    def write_to_disk(self):\n",
    "        with open(self.path, \"a\") as f:\n",
    "            f.writelines(self.logs)\n",
    "        self.logs= []\n",
    "    \n",
    "    def __del__(self):\n",
    "        self.write_to_disk()\n",
    "                "
   ]
  },
  {
   "cell_type": "code",
   "execution_count": 222,
   "metadata": {},
   "outputs": [],
   "source": [
    "def get_random_position(x_max, y_max):\n",
    "    return Position(random_float(0, y_max), random_float(0, y_max))"
   ]
  },
  {
   "cell_type": "markdown",
   "metadata": {},
   "source": [
    "# 2) Velo"
   ]
  },
  {
   "cell_type": "code",
   "execution_count": 779,
   "metadata": {},
   "outputs": [],
   "source": [
    "class Velo:\n",
    "    nb_d_instance =0\n",
    "    def __init__(self):\n",
    "        import random\n",
    "        Velo.nb_d_instance += 1\n",
    "        self.id             = \"velo_%s\"%(Velo.nb_d_instance)\n",
    "        self.performance    = random.random()\n",
    "        \n",
    "    def update_performance(self):\n",
    "        import numpy as np\n",
    "        self.performance = self.performance * np.random.normal(0.90, 0.1)\n",
    "        #print(\"update velo %s performance to :\"%self.id, self.performance)\n",
    "        \n",
    "    def __str__(self):\n",
    "        return \"{id} : performance = {performance}\".format(id=self.id,\n",
    "                                                           performance=self.performance)\n",
    "    \n",
    "    \n",
    "    "
   ]
  },
  {
   "cell_type": "markdown",
   "metadata": {},
   "source": [
    "# Velo - test"
   ]
  },
  {
   "cell_type": "markdown",
   "metadata": {},
   "source": [
    "# 3) Trajet"
   ]
  },
  {
   "cell_type": "code",
   "execution_count": 225,
   "metadata": {},
   "outputs": [],
   "source": [
    "%matplotlib inline"
   ]
  },
  {
   "cell_type": "code",
   "execution_count": 922,
   "metadata": {},
   "outputs": [],
   "source": [
    "class Trajet():\n",
    "    def __init__(self, position_depart, position_arrivee, vitesse=3):\n",
    "        self.depart      = position_depart\n",
    "        self.destination = position_arrivee\n",
    "        self.set_position(position_depart)\n",
    "        self.set_distance() \n",
    "        self.nb_step     = max(self.distance /  vitesse , 1)\n",
    "        \n",
    "        self.set_pas()\n",
    "        self.avancee_minimale = 0.1\n",
    "        \n",
    "    def __str__(self):\n",
    "        return \"%s -> %s\"%(self.depart, self.destination)\n",
    "    def fini(self):\n",
    "        return self.position.is_same_position(self.destination)\n",
    "        \n",
    "    def set_position(self, position):\n",
    "        self.longitude   = position.longitude\n",
    "        self.lattitude   = position.lattitude\n",
    "        self.position    = position\n",
    "        \n",
    "    def set_pas(self):\n",
    "        \"\"\"\n",
    "        @Todo : ici le point d'arrivée est toujours atteint en 3 temps.\n",
    "        Il faudrait le rendre dépendant de la distance.\n",
    "        => rajouter un paramètre de vitesse ? \n",
    "        \"\"\"\n",
    "        nb_step            = self.nb_step\n",
    "        delta_longitude    = self.destination.longitude  - self.longitude\n",
    "        delta_lattitude    = self.destination.lattitude  - self.lattitude\n",
    "        self.pas_longitude = delta_longitude * 1/ nb_step\n",
    "        self.pas_lattitude = delta_lattitude * 1/ nb_step\n",
    "        \n",
    "    def set_distance(self):\n",
    "        import math\n",
    "        delta_longitude = self.destination.longitude  - self.longitude\n",
    "        delta_lattitude = self.destination.lattitude  - self.lattitude\n",
    "        distance        = math.sqrt(math.pow(delta_longitude, 2) + math.pow(delta_lattitude, 2))\n",
    "        self.distance   = distance\n",
    "        return distance\n",
    "        \n",
    "    def next_position(self):\n",
    "        last_distance = self.set_distance() \n",
    "        if self.distance < self.avancee_minimale:\n",
    "            self.set_position(self.destination)\n",
    "            return self.destination\n",
    "        else:\n",
    "            new_longitude   = self.longitude + self.pas_longitude\n",
    "            new_latitude    = self.lattitude + self.pas_lattitude\n",
    "            new_position    = Position(new_longitude, new_latitude)\n",
    "            self.set_position(new_position)\n",
    "            new_distance    = self.set_distance()\n",
    "            if not new_distance<last_distance:\n",
    "                new_position = self.destination\n",
    "                self.set_position(new_position)\n",
    "            return new_position"
   ]
  },
  {
   "cell_type": "code",
   "execution_count": 849,
   "metadata": {},
   "outputs": [
    {
     "name": "stdout",
     "output_type": "stream",
     "text": [
      "------------------------------\n",
      "(lon:15.00 lat:33.00) -> (lon:6.00 lat:23.00)\n",
      "distance = 13.45362404707371  vitesse =  100 nb_step =  1\n",
      "(lon:6.00 lat:23.00)\n"
     ]
    }
   ],
   "source": [
    "p1 = Position(15, 33)\n",
    "p2 = Position(6, 23)\n",
    "t = Trajet(p1, p2, 100)\n",
    "while not t.fini():\n",
    "    print(str(t.next_position()))"
   ]
  },
  {
   "cell_type": "markdown",
   "metadata": {},
   "source": [
    "# 4) Station"
   ]
  },
  {
   "cell_type": "code",
   "execution_count": 786,
   "metadata": {},
   "outputs": [
    {
     "name": "stdout",
     "output_type": "stream",
     "text": [
      "Attention : vous allez utiliser un fichier existant !\n"
     ]
    }
   ],
   "source": [
    "class Station:\n",
    "    nb_d_instance =0\n",
    "    station_logger=Logger(\"./stations.csv\")\n",
    "    def __init__(self, position):\n",
    "        import random\n",
    "        Station.nb_d_instance +=1\n",
    "        NB_BORNES_POSSIBLES = [5,10,15,20,30]\n",
    "        self.position       = position\n",
    "        self.nb_bornes      = random.choice(NB_BORNES_POSSIBLES)\n",
    "        self.velos          = [Velo() for i in range(self.nb_bornes-3)]\n",
    "        self.id             = Station.nb_d_instance\n",
    "    def __str__(self):\n",
    "        to_print = \"Station n° {nom} : {position}, {nb_bornes} bornes, {nb_velos_dispo} velos\"\n",
    "        \n",
    "        return to_print.format(nom=self.id,\n",
    "                               position=self.position,\n",
    "                              nb_bornes=self.nb_bornes,\n",
    "                              nb_velos_dispo=len(self.velos))\n",
    "    def nb_de_velos(self):\n",
    "        return len(self.velos)\n",
    "\n",
    "    def has_empty_place(self):\n",
    "        return len(self.velos) < self.nb_bornes\n",
    "\n",
    "    def has_velo(self):\n",
    "        return 0 < len(self.velos)\n",
    "    def log(self, message):\n",
    "        message=\"station_%s : %s\"%(self.id, message)\n",
    "        Station.station_logger.log(message)\n",
    "        \n",
    "    def deposer_un_velo(self, velo):\n",
    "        if self.has_empty_place():\n",
    "            self.log(\"recupere le velo %s\"%velo.id)\n",
    "            velo.update_performance()\n",
    "            self.velos.append(velo)\n",
    "            return True\n",
    "        else:\n",
    "            self.log(\"complete\")\n",
    "            return False\n",
    "    def prendre_un_velo(self):\n",
    "        if self.has_velo():\n",
    "            import random\n",
    "            velo = self.velos.pop(random.randint(0, len(self.velos)-1))\n",
    "            self.log(\"donne le velo %s\"%velo.id)\n",
    "            return velo\n",
    "        else:\n",
    "            self.log(\"vide.\")\n",
    "            return False\n",
    "\n",
    "    def nb_velo_under_perf(self, seuil_de_performance=0.5):\n",
    "        test = lambda velo: velo.performance < seuil_de_performance\n",
    "        return len(list(filter(test, self.velos)))\n",
    "        "
   ]
  },
  {
   "cell_type": "markdown",
   "metadata": {},
   "source": [
    "# 5) Prestataire"
   ]
  },
  {
   "cell_type": "code",
   "execution_count": 860,
   "metadata": {},
   "outputs": [
    {
     "data": {
      "text/plain": [
       "[0, 2, 4, 6, 8]"
      ]
     },
     "execution_count": 860,
     "metadata": {},
     "output_type": "execute_result"
    }
   ],
   "source": [
    "list(range(0, 10, 2))"
   ]
  },
  {
   "cell_type": "code",
   "execution_count": 926,
   "metadata": {},
   "outputs": [],
   "source": [
    "class Prestataire():\n",
    "    def __init__(self, largeur=10, hauteur=10):\n",
    "        self.largeur = largeur\n",
    "        self.hauteur = hauteur\n",
    "        self.reseau = []\n",
    "        for lattitude in range(0, self.hauteur, 1):\n",
    "            for longitude in range(0, self.largeur, 1):\n",
    "                emplacement = Position(lattitude, longitude)\n",
    "                new_station = Station(emplacement)\n",
    "                self.reseau.append(new_station)\n",
    "    \n",
    "    def is_position_a_station(self, position):\n",
    "        nb_ligne = round(position.longitude)\n",
    "        nb_col   = round(position.lattitude)\n",
    "        indice   =  (nb_ligne * self.largeur) + (nb_col )\n",
    "        if nb_ligne<0 or nb_col<0:\n",
    "            return False    \n",
    "        \n",
    "        closest_station  = self.reseau[int(indice)]\n",
    "        return closest_station.position.is_same_position( position)\n",
    "\n",
    "    def get_station_at_position(self, position):\n",
    "        nb_ligne = round(position.longitude)\n",
    "        nb_col   = round(position.lattitude)\n",
    "        indice   =  (nb_ligne * self.largeur) + (nb_col )\n",
    "        return self.reseau[int(indice)]\n",
    "        \n",
    "    def get_closest_station(self, position):\n",
    "        \"\"\"\n",
    "        @Todo : améliorer pour les valeurs en dehors du réseau\n",
    "        \"\"\"\n",
    "        nb_ligne = round(position.longitude)\n",
    "        nb_col   = round(position.lattitude)\n",
    "        indice   =  (nb_ligne * self.largeur) + (nb_col )\n",
    "        if nb_ligne<0 or nb_col<0:\n",
    "            closest_station  = self.reseau[0]    \n",
    "        try:\n",
    "            closest_station  = self.reseau[int(indice)]\n",
    "            if is_same_position(closest_station.position, position):\n",
    "                closest_station = self.reseau[int(indice)+1]\n",
    "        except Exception as e:\n",
    "            print(\"Pbm dans get_closest_station :\", e)\n",
    "            closest_station  = self.reseau[-1]\n",
    "        return closest_station\n",
    "    \n",
    "\n",
    "    def filtrer_le_reseau(self, function_de_test):\n",
    "        \"\"\"\n",
    "        Renvoie les stations qui passe le test.\n",
    "        \n",
    "        Parameters:\n",
    "            function de test : lambda function\n",
    "        Return:\n",
    "            list\n",
    "        \n",
    "        \"\"\"\n",
    "        return list(filter(function_de_test, self.reseau))\n",
    "    def nb_station_passant_le_test(self, function):\n",
    "        r = self.filtrer_le_reseau(function)\n",
    "        return len(r)\n",
    "    \n",
    "    def nombre_de_stations(self):\n",
    "        return len(self.reseau)\n",
    "    \n",
    "    def nombre_de_velos(self):\n",
    "        return sum(map(lambda x: x.nb_de_velos(),self.reseau))\n",
    "    \n",
    "    def nombre_de_stations_pleine(self):\n",
    "        test  = lambda station: station.nb_bornes == len(station.velos)\n",
    "        return self.nb_station_passant_le_test(test)\n",
    "    \n",
    "    def nombre_de_stations_avec_velo(self):\n",
    "        test = lambda x: x.has_velo()\n",
    "        return self.nb_station_passant_le_test(test)\n",
    "    \n",
    "    def nombre_de_stations_vide(self):\n",
    "        test  = lambda station: not station.has_velo()\n",
    "        return self.nb_station_passant_le_test(test)\n",
    "\n",
    "    def __str__(self):\n",
    "        return \"\"\"\n",
    "                Nb de stations           : %s \n",
    "                Nb de vélos              : %s \n",
    "                Nb de stations avec vélo : %s \n",
    "                Nb de stations pleines   : %s\n",
    "                Nb de stations vides     : %s\n",
    "        \"\"\"%(self.nombre_de_stations(),\n",
    "             self.nombre_de_velos(),\n",
    "             self.nombre_de_stations_avec_velo(),\n",
    "             self.nombre_de_stations_pleine(),\n",
    "             self.nombre_de_stations_vide())\n",
    "    \n",
    "    def nombre_de_velos_sous_performants(self, seuil=0.5):\n",
    "        r = map(lambda station: station.nb_velo_under_perf(seuil), self.reseau)\n",
    "        return sum(list(r))\n",
    "    def get_topology(self):\n",
    "        \"\"\"\n",
    "        Return a Datframe of longitude/lattitude\n",
    "        \"\"\"\n",
    "        import pandas as pd\n",
    "        infos = { \"longitudes\" : [x.position.longitude for x in self.reseau],\n",
    "                  \"lattitude\"  : [x.position.lattitude for x in self.reseau]}\n",
    "        \n",
    "        return pd.DataFrame(infos)\n",
    "        \n",
    "        \n",
    "    "
   ]
  },
  {
   "cell_type": "markdown",
   "metadata": {},
   "source": [
    "# 4.1) Test decaux"
   ]
  },
  {
   "cell_type": "code",
   "execution_count": 788,
   "metadata": {},
   "outputs": [],
   "source": [
    "def draw(positions):\n",
    "    import pandas as pd\n",
    "    df = pd.DataFrame([ {\"lon\" : x.longitude, \n",
    "                \"lat\": x.lattitude} for x in positions])\n",
    "    df.plot.scatter(x=\"lon\", y=\"lat\")\n",
    "    \n",
    "    "
   ]
  },
  {
   "cell_type": "code",
   "execution_count": 789,
   "metadata": {},
   "outputs": [],
   "source": [
    "r = Prestataire(3,3)"
   ]
  },
  {
   "cell_type": "markdown",
   "metadata": {},
   "source": [
    "# 6) Villes"
   ]
  },
  {
   "cell_type": "code",
   "execution_count": 790,
   "metadata": {},
   "outputs": [],
   "source": [
    "class Ville:\n",
    "    def __init__(self, nb_de_cyclistes, Prestataire):\n",
    "        self.prestataire = Prestataire\n",
    "        self.x_max = Prestataire.largeur -2\n",
    "        self.y_max = Prestataire.hauteur-2\n",
    "        self.cyclistes   = [Cycliste(get_random_position(self.x_max, self.y_max), get_random_position(self.x_max, self.y_max), self) for i in range(nb_de_cyclistes)]\n",
    "        self.ax = None\n",
    "        self.timestamp = 0\n",
    "    def __str__(self):\n",
    "        return \"\\n\".join([str(self.prestataire),\n",
    "                    str(self.x_max), \n",
    "                       str(self.y_max),\n",
    "                   \"nb de cycliste = \", str(len(self.cyclistes))])\n",
    "        \n",
    "    def reveil(self):\n",
    "        self.timestamp += 1\n",
    "        list(map(lambda cycliste : cycliste.avancer(self.timestamp), self.cyclistes))\n",
    "        \n",
    "    def get_cycliste_workplaces(self):\n",
    "        import pandas as pd\n",
    "        infos = { \"longitudes\" : [cycliste.travail.longitude for cycliste in self.cyclistes],\n",
    "                  \"lattitude\"  : [cycliste.travail.lattitude for cycliste in self.cyclistes]}\n",
    "        return pd.DataFrame(infos)\n",
    "\n",
    "    def get_cycliste_homes(self):\n",
    "        import pandas as pd\n",
    "        infos = { \"longitudes\" : [cycliste.home.longitude for cycliste in self.cyclistes],\n",
    "                  \"lattitude\"  : [cycliste.home.lattitude for cycliste in self.cyclistes]}\n",
    "        return pd.DataFrame(infos)\n",
    "\n",
    "        \n",
    "    def get_cycliste_positions(self):\n",
    "        import pandas as pd\n",
    "        infos = { \"longitudes\" : [x.position.longitude for x in self.cyclistes],\n",
    "                  \"lattitude\"  : [x.position.lattitude for x in self.cyclistes],\n",
    "                   \"id\"        : [x.id                 for x in self.cyclistes]}\n",
    "        return pd.DataFrame(infos)\n",
    "\n",
    "    def get_topology(self):\n",
    "        import pandas as pd\n",
    "        infos = { \"longitudes\" : [x.position.longitude for x in self.prestataire.reseau],\n",
    "                  \"lattitude\"  : [x.position.lattitude for x in self.prestataire.reseau]}\n",
    "        return pd.DataFrame(infos)\n",
    "    def get_drawing_data(self):\n",
    "        cyclistes  = self.get_cycliste_positions()\n",
    "        stations   = self.get_topology()\n",
    "        homes      = self.get_cycliste_homes()\n",
    "        workplaces = self.get_cycliste_workplaces()\n",
    "        return cyclistes, stations, homes, workplaces\n",
    "\n",
    "    def draw_map(self,ax=None):\n",
    "        import matplotlib.pyplot as plt\n",
    "        cyclistes, stations, homes, workplaces = self.get_drawing_data()\n",
    "        if not ax:\n",
    "            ax = cyclistes.plot.scatter(x=\"longitudes\", y=\"lattitude\", c=cyclistes[\"id\"]  , marker=\"1\" , colormap='viridis'  , colorbar=True      )\n",
    "\n",
    "            stations.plot.scatter(      x=\"longitudes\", y=\"lattitude\", c=\"grey\"   , marker=\"D\", alpha=0.1, ax=ax)\n",
    "            homes.plot.scatter(         x=\"longitudes\", y=\"lattitude\", c=\"green\"  , marker=\"s\", ax=ax )\n",
    "            workplaces.plot.scatter(    x=\"longitudes\", y=\"lattitude\", c=\"red\"    , marker=\"x\", ax=ax )\n",
    "        else:\n",
    "            cyclistes.plot.scatter(x=\"longitudes\", y=\"lattitude\", c=cyclistes[\"id\"]  , marker=\"1\" , colormap='viridis', ax=ax,  colorbar=False             )\n",
    "\n",
    "        return ax\n",
    "    def get_historique_positions_cycliste(self):\n",
    "        return pd.concat([x.get_historique() for x in self.cyclistes])\n",
    "        "
   ]
  },
  {
   "cell_type": "markdown",
   "metadata": {},
   "source": [
    "# 7) Cycliste"
   ]
  },
  {
   "cell_type": "code",
   "execution_count": 924,
   "metadata": {},
   "outputs": [
    {
     "name": "stdout",
     "output_type": "stream",
     "text": [
      "Attention : vous allez utiliser un fichier existant !\n"
     ]
    }
   ],
   "source": [
    "class Cycliste:\n",
    "    nb_d_instance =0\n",
    "    cycliste_logger= Logger(\"./cyclistes.csv\")\n",
    "    def __init__(self, position_home, position_travail, ville):\n",
    "        import random\n",
    "        import numpy as np\n",
    "        Cycliste.nb_d_instance +=1\n",
    "        self.id           = Cycliste.nb_d_instance\n",
    "        self.home         = position_home\n",
    "        self.travail      = position_travail\n",
    "        self.position     = position_home\n",
    "        self.destination  = position_travail\n",
    "        self.sur_velo     = False\n",
    "        self.velo         = False\n",
    "        self.sexe         = random.choice([\"H\", \"F\"])\n",
    "        self.age          = random.choice(range(15,85))\n",
    "        self.sportivite   = max(np.random.normal(2, 2), 0.1)\n",
    "        self.vitesse_a_pied =  2 * self.sportivite \n",
    "        self.vitesse_a_velo = 5 * self.sportivite\n",
    "        self.ville        = ville\n",
    "        self.trajet       = Trajet(self.home, self.home)\n",
    "        self.positions    = [self.position]\n",
    "        self.timestamps   = [0]\n",
    "        self.destination_finale = False\n",
    "        self.vitesse      = self.vitesse_a_pied\n",
    "        self.wanted_details = [ 'id', 'vitesse_a_pied', 'vitesse_a_velo', 'trajet', 'sur_velo', 'velo','vitesse', 'trajet', 'destination_finale']\n",
    "        self.status       = [{x : self.__dict__[x] for x in self.wanted_details}]\n",
    "        self.velo_perf_minimale = 0.4\n",
    "    def __str__(self):\n",
    "        return \" %s :  %s\" %(self.id,  str(self.position))\n",
    "    \n",
    "    def get_historique(self):\n",
    "        df = pd.concat([x.get_df() for x in self.positions])\n",
    "        df[\"id_cycliste\"] = self.id\n",
    "        df[\"time\"]        = self.timestamps\n",
    "        df[\"status\"]      = self.status\n",
    "        \n",
    "        return df\n",
    "    \n",
    "    def get_vitesse(self):\n",
    "        if self.velo:\n",
    "            self.vitesse = self.vitesse_a_velo * self.velo.performance\n",
    "        else:\n",
    "            self.vitesse =  self.vitesse_a_pied\n",
    "        return self.vitesse\n",
    "        \n",
    "    def est_a_la_maison(self):\n",
    "        return self.position == self.home\n",
    "    \n",
    "    def est_au_travail(self):\n",
    "        return self.position == self.travail\n",
    "    \n",
    "    def est_arrive(self):\n",
    "        return self.position == self.destination_finale\n",
    "    \n",
    "    def log(self, message):\n",
    "        message=\"cycliste_%s : %s\"%(self.id, message)\n",
    "        Cycliste.cycliste_logger.log(message)\n",
    "    def est_sur_station(self):\n",
    "        return self.ville.prestataire.is_position_a_station(self.position)\n",
    "\n",
    "    def ou_suis_je(self):\n",
    "        if self.est_a_la_maison():\n",
    "            return \" a la maison\"\n",
    "        if self.est_au_travail():\n",
    "            return \" au travail\"\n",
    "\n",
    "        return \" en route\"\n",
    "        \n",
    "    def ou_vais_je(self):\n",
    "        if self.destination == self.travail:\n",
    "            return \" au travail\"\n",
    "        if self.destination == self.home:\n",
    "            return \" a la maison\"\n",
    "        \n",
    "\n",
    "    def avancer(self, timestamp, debug=False):\n",
    "\n",
    "        if not self.trajet.fini():\n",
    "            self.position = self.trajet.next_position()\n",
    "        else:            \n",
    "            if self.est_a_la_maison():\n",
    "                self.destination        = self.ville.prestataire.get_closest_station(self.position).position\n",
    "                self.destination_finale = self.travail\n",
    "                self.sur_velo           = False\n",
    "                self.trajet             = Trajet(self.home, self.destination, self.get_vitesse())\n",
    "\n",
    "            if self.est_au_travail():\n",
    "                self.destination        = self.ville.prestataire.get_closest_station(self.position).position\n",
    "                self.destination_finale = self.home\n",
    "                self.sur_velo           = False\n",
    "                self.trajet             = Trajet(self.travail, self.destination, self.get_vitesse())\n",
    "\n",
    "            if self.est_sur_station():\n",
    "                station_actuelle = self.ville.prestataire.get_station_at_position(self.position)\n",
    "                \n",
    "                if self.sur_velo:\n",
    "                    velo_rendu       = station_actuelle.deposer_un_velo(self.velo)\n",
    "                    if velo_rendu:\n",
    "                        self.sur_velo    = False\n",
    "                        self.velo        = False\n",
    "                        self.destination = self.destination_finale\n",
    "                        \n",
    "                    else:\n",
    "                        self.destination = self.ville.prestataire.get_closest_station(self.position).position\n",
    "                else:\n",
    "                    velo_pris = station_actuelle.prendre_un_velo()\n",
    "                    if velo_pris:\n",
    "                        if self.velo_perf_minimale <= velo_pris.performance:\n",
    "                            self.sur_velo    = True\n",
    "                            self.velo        = velo_pris\n",
    "                            self.destination = self.ville.prestataire.get_closest_station(self.destination_finale).position\n",
    "                        else:\n",
    "                            new_velo     = velo_pris\n",
    "                            velos_testes = [new_velo]\n",
    "                            while new_velo.performance <self.velo_perf_minimale and station_actuelle.has_velo():\n",
    "                                new_velo = station_actuelle.prendre_un_velo()\n",
    "                                velos_testes.append (new_velo)\n",
    "                            if new_velo.performance <self.velo_perf_minimale:\n",
    "                                [station_actuelle.deposer_un_velo(velo) for velo in velos_testes]\n",
    "                                self.destination = self.ville.prestataire.get_closest_station(self.position).position \n",
    "                            else:\n",
    "                                self.sur_velo    = True\n",
    "                                self.velo        = velos_testes.pop()\n",
    "                                [station_actuelle.deposer_un_velo(velo) for velo in velos_testes]\n",
    "                                self.destination = self.ville.prestataire.get_closest_station(self.destination_finale).position\n",
    "                             \n",
    "                            \n",
    "                    else:\n",
    "                        self.destination = self.ville.prestataire.get_closest_station(self.position).position \n",
    "                self.trajet      = Trajet(self.position, self.destination, self.get_vitesse())\n",
    "        self.positions.append(self.position)\n",
    "        self.timestamps.append(timestamp)\n",
    "        self.status.append({x : str(self.__dict__[x]) for x in self.wanted_details})\n",
    "\n",
    "         "
   ]
  },
  {
   "cell_type": "markdown",
   "metadata": {},
   "source": [
    "# 7) Algo"
   ]
  },
  {
   "cell_type": "code",
   "execution_count": 792,
   "metadata": {},
   "outputs": [],
   "source": [
    "def is_same_position(p1, p2):\n",
    "    return p1.lattitude==p2.lattitude and p1.longitude==p2.longitude\n",
    "\n",
    "import pandas as pd"
   ]
  },
  {
   "cell_type": "code",
   "execution_count": 793,
   "metadata": {},
   "outputs": [],
   "source": [
    "%matplotlib inline"
   ]
  },
  {
   "cell_type": "code",
   "execution_count": 902,
   "metadata": {},
   "outputs": [],
   "source": [
    "import time"
   ]
  },
  {
   "cell_type": "code",
   "execution_count": 933,
   "metadata": {},
   "outputs": [
    {
     "name": "stdout",
     "output_type": "stream",
     "text": [
      "\n",
      "                Nb de stations           : 1600 \n",
      "                Nb de vélos              : 20490 \n",
      "                Nb de stations avec vélo : 1600 \n",
      "                Nb de stations pleines   : 0\n",
      "                Nb de stations vides     : 0\n",
      "        \n",
      "0.06093311309814453\n"
     ]
    },
    {
     "data": {
      "text/plain": [
       "(0, 40)"
      ]
     },
     "execution_count": 933,
     "metadata": {},
     "output_type": "execute_result"
    },
    {
     "data": {
      "image/png": "[encoded data removed]",
      "text/plain": [
       "<Figure size 1440x1440 with 2 Axes>"
      ]
     },
     "metadata": {},
     "output_type": "display_data"
    }
   ],
   "source": [
    "durees_totales = []\n",
    "nb_cycliste = 30\n",
    "width = 40\n",
    "length = 40\n",
    "JcDecaux = Prestataire(width,length)\n",
    "print(JcDecaux)\n",
    "paris = Ville(nb_cycliste, JcDecaux)\n",
    "positions = pd.DataFrame()\n",
    "ax = None\n",
    "durees = []\n",
    "debut = time.time()\n",
    "for i in range(100):\n",
    "    local_debut = time.time()\n",
    "    paris.reveil()\n",
    "    durees.append(time.time() - local_debut)\n",
    "total = time.time()-debut\n",
    "durees_totales.append(total)\n",
    "print(total)\n",
    "cols = [\"longitude\", \"lattitude\", \"id_cycliste\"]\n",
    "df = paris.get_historique_positions_cycliste()[cols]\n",
    "ax = df.plot.scatter(x=\"longitude\", y=\"lattitude\", c=\"id_cycliste\", colormap='viridis', figsize=(20,20))\n",
    "ax.set_xlim(0, width)\n",
    "ax.set_ylim(0, length)"
   ]
  },
  {
   "cell_type": "code",
   "execution_count": null,
   "metadata": {},
   "outputs": [],
   "source": []
  },
  {
   "cell_type": "code",
   "execution_count": null,
   "metadata": {},
   "outputs": [],
   "source": []
  }
 ],
 "metadata": {
  "celltoolbar": "Raw Cell Format",
  "kernelspec": {
   "display_name": "Python 3",
   "language": "python",
   "name": "python3"
  },
  "language_info": {
   "codemirror_mode": {
    "name": "ipython",
    "version": 3
   },
   "file_extension": ".py",
   "mimetype": "text/x-python",
   "name": "python",
   "nbconvert_exporter": "python",
   "pygments_lexer": "ipython3",
   "version": "3.6.5"
  }
 },
 "nbformat": 4,
 "nbformat_minor": 2
}
