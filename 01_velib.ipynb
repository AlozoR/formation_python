{
 "cells": [
  {
   "cell_type": "code",
   "execution_count": 1,
   "metadata": {},
   "outputs": [],
   "source": [
    "!git log\n"
   ]
  },
  {
   "cell_type": "code",
   "execution_count": 2,
   "metadata": {},
   "outputs": [],
   "source": [
    "!git add 01_velib.ipynb"
   ]
  },
  {
   "cell_type": "code",
   "execution_count": 3,
   "metadata": {},
   "outputs": [
    {
     "name": "stdout",
     "output_type": "stream",
     "text": [
      "[master 2026c2b6] pas mal\n",
      " 1 file changed, 632 insertions(+)\n"
     ]
    }
   ],
   "source": [
    "!git commit -m \"pas mal\""
   ]
  },
  {
   "cell_type": "markdown",
   "metadata": {},
   "source": [
    "# Debut"
   ]
  },
  {
   "cell_type": "code",
   "execution_count": 1,
   "metadata": {},
   "outputs": [],
   "source": [
    "def random_float(min=0, max=9):\n",
    "    import random\n",
    "    entier = random.randint(min, max)\n",
    "    float_ = random.random()\n",
    "    return entier+float_"
   ]
  },
  {
   "cell_type": "code",
   "execution_count": 2,
   "metadata": {},
   "outputs": [],
   "source": [
    "class Position():\n",
    "    def __init__(self, longitude, lattitude):\n",
    "        self.longitude = longitude\n",
    "        self.lattitude = lattitude\n",
    "    def __str__(self):\n",
    "        return \"(lon:%.2f lat:%.2f)\"%(self.longitude, self.lattitude)\n"
   ]
  },
  {
   "cell_type": "markdown",
   "metadata": {},
   "source": [
    "# 1) Logger"
   ]
  },
  {
   "cell_type": "code",
   "execution_count": 3,
   "metadata": {},
   "outputs": [],
   "source": [
    "class Logger():\n",
    "    def __init__(self, path, bufferlength=1, separator=\"\\n\", mode=\"a\"):\n",
    "        import os\n",
    "        if os.path.exists(path) :\n",
    "            msg = \"Attention : vous allez utiliser un fichier existant !\"\n",
    "            print (msg)\n",
    "            if (mode != \"a\"):\n",
    "                raise msg\n",
    "        self.path         = path\n",
    "        self.logs         = []\n",
    "        self.bufferlength = bufferlength\n",
    "        self.separator    = separator\n",
    "\n",
    "    def clean_msg(self, msg):\n",
    "        msg = str(msg)\n",
    "        if msg[-1] != \"\\n\": \n",
    "            msg = msg + \"\\n\"\n",
    "        return msg\n",
    "    \n",
    "    def log(self, msg):\n",
    "        print(msg)\n",
    "        msg = self.clean_msg(msg)\n",
    "        import datetime\n",
    "        msg=str(datetime.datetime.now().isoformat())+\",\"+msg\n",
    "        self.logs.append(msg)\n",
    "        if self.bufferlength < len(self.logs):\n",
    "            self.write_to_disk()\n",
    "    \n",
    "    def write_to_disk(self):\n",
    "        with open(self.path, \"a\") as f:\n",
    "            f.writelines(self.logs)\n",
    "        self.logs= []\n",
    "    \n",
    "    def __del__(self):\n",
    "        self.write_to_disk()\n",
    "                "
   ]
  },
  {
   "cell_type": "code",
   "execution_count": 4,
   "metadata": {},
   "outputs": [],
   "source": [
    "def get_random_position(x_max, y_max):\n",
    "    return Position(random_float(0, y_max), random_float(0, y_max))"
   ]
  },
  {
   "cell_type": "markdown",
   "metadata": {},
   "source": [
    "# 2) Velo"
   ]
  },
  {
   "cell_type": "code",
   "execution_count": 5,
   "metadata": {},
   "outputs": [],
   "source": [
    "class Velo:\n",
    "    nb_d_instance =0\n",
    "    def __init__(self):\n",
    "        import random\n",
    "        Velo.nb_d_instance += 1\n",
    "        self.id             = \"velo_%s\"%(Velo.nb_d_instance)\n",
    "        self.performance    = random.random()\n",
    "    def update_performance(self):\n",
    "        import numpy as np\n",
    "        self.performance = np.random.normal(0.75, 0.2)"
   ]
  },
  {
   "cell_type": "markdown",
   "metadata": {},
   "source": [
    "# Velo - test"
   ]
  },
  {
   "cell_type": "code",
   "execution_count": 6,
   "metadata": {},
   "outputs": [
    {
     "name": "stdout",
     "output_type": "stream",
     "text": [
      "[0.6080530644349105, 0.6975855514096407, 0.43545269249203045, 0.7320694867386087, 0.7256100394934923, 0.6283041139720873, 0.875330850738494, 0.5965298624918782, 0.5666054584443933, 0.7021359774443111]\n"
     ]
    }
   ],
   "source": [
    "def test_velo():\n",
    "    v = Velo()\n",
    "    perfs = [(v.update_performance(), v.performance)[1] for x in range(10)]\n",
    "    print(perfs)\n",
    "test_velo()"
   ]
  },
  {
   "cell_type": "markdown",
   "metadata": {},
   "source": [
    "# 3) Trajet"
   ]
  },
  {
   "cell_type": "code",
   "execution_count": 145,
   "metadata": {},
   "outputs": [],
   "source": [
    "p1 = Position(0,0)"
   ]
  },
  {
   "cell_type": "code",
   "execution_count": 146,
   "metadata": {},
   "outputs": [],
   "source": [
    "p2 = Position(1,1)"
   ]
  },
  {
   "cell_type": "code",
   "execution_count": 229,
   "metadata": {},
   "outputs": [],
   "source": [
    "v = 1\n",
    "t = Trajet(p1,p2, v)"
   ]
  },
  {
   "cell_type": "code",
   "execution_count": 230,
   "metadata": {},
   "outputs": [
    {
     "name": "stdout",
     "output_type": "stream",
     "text": [
      "(lon:0.00 lat:0.00) (lon:0.10 lat:0.10) (lon:0.10 lat:0.10)\n",
      "(lon:0.10 lat:0.10) (lon:0.20 lat:0.20) (lon:0.20 lat:0.20)\n",
      "(lon:0.20 lat:0.20) (lon:0.30 lat:0.30) (lon:0.30 lat:0.30)\n",
      "(lon:0.30 lat:0.30) (lon:0.40 lat:0.40) (lon:0.40 lat:0.40)\n",
      "(lon:0.40 lat:0.40) (lon:0.50 lat:0.50) (lon:0.50 lat:0.50)\n",
      "(lon:0.50 lat:0.50) (lon:0.60 lat:0.60) (lon:0.60 lat:0.60)\n",
      "(lon:0.60 lat:0.60) (lon:0.70 lat:0.70) (lon:0.70 lat:0.70)\n",
      "(lon:0.70 lat:0.70) (lon:0.80 lat:0.80) (lon:0.80 lat:0.80)\n",
      "(lon:0.80 lat:0.80) (lon:0.90 lat:0.90) (lon:0.90 lat:0.90)\n",
      "(lon:0.90 lat:0.90) (lon:1.00 lat:1.00) (lon:1.00 lat:1.00)\n",
      "(lon:1.00 lat:1.00) (lon:1.00 lat:1.00) (lon:1.00 lat:1.00)\n"
     ]
    },
    {
     "data": {
      "text/plain": [
       "[None, None, None, None, None, None, None, None, None, None, None]"
      ]
     },
     "execution_count": 230,
     "metadata": {},
     "output_type": "execute_result"
    }
   ],
   "source": [
    "[print(t.position, t.next_position(), t.position) for i in range(11)]"
   ]
  },
  {
   "cell_type": "code",
   "execution_count": 227,
   "metadata": {},
   "outputs": [],
   "source": [
    "class Trajet():\n",
    "    def __init__(self, position_depart, position_arrivee, vitesse=3):\n",
    "        self.depart      = position_depart\n",
    "        self.destination = position_arrivee\n",
    "        self.nb_step     = min(10, 10/vitesse)\n",
    "        self.set_position(position_depart)\n",
    "        self.set_distance() \n",
    "        self.set_pas()\n",
    "        self.avancee_minimale = 0.1\n",
    "    def __str__(self):\n",
    "        return \"%s -> %s\"%(self.depart, self.destination)\n",
    "        \n",
    "    def set_position(self, position):\n",
    "        self.longitude   = position.longitude\n",
    "        self.lattitude   = position.lattitude\n",
    "        self.position    = position\n",
    "        \n",
    "    def set_pas(self):\n",
    "        \"\"\"\n",
    "        @Todo : ici le point d'arrivée est toujours atteint en 3 temps.\n",
    "        Il faudrait le rendre dépendant de la distance.\n",
    "        => rajouter un paramètre de vitesse ? \n",
    "        \"\"\"\n",
    "        nb_step            = self.nb_step\n",
    "        delta_longitude    = self.destination.longitude  - self.longitude\n",
    "        delta_lattitude    = self.destination.lattitude  - self.lattitude\n",
    "        \n",
    "        self.pas_longitude = delta_longitude * 1/ nb_step\n",
    "        self.pas_lattitude = delta_lattitude * 1/ nb_step\n",
    "        \n",
    "    def set_distance(self):\n",
    "        import math\n",
    "        delta_longitude = self.destination.longitude  - self.longitude\n",
    "        delta_lattitude = self.destination.lattitude  - self.lattitude\n",
    "        distance        = math.sqrt(math.pow(delta_longitude, 2) + math.pow(delta_lattitude, 2))\n",
    "        self.distance   = distance\n",
    "        return distance\n",
    "        \n",
    "    def next_position(self):\n",
    "        last_distance = self.set_distance() \n",
    "        if self.distance < self.avancee_minimale:\n",
    "            self.set_position(self.destination)\n",
    "            return self.destination\n",
    "        else:\n",
    "            new_longitude   = self.longitude + self.pas_longitude\n",
    "            new_latitude    = self.lattitude + self.pas_lattitude\n",
    "            new_position    = Position(new_longitude, new_latitude)\n",
    "            self.set_position(new_position)\n",
    "            new_distance    = self.set_distance()\n",
    "            if not new_distance<last_distance:\n",
    "                new_position = self.destination\n",
    "                self.set_position(new_position)\n",
    "            return new_position"
   ]
  },
  {
   "cell_type": "code",
   "execution_count": 231,
   "metadata": {},
   "outputs": [
    {
     "name": "stdout",
     "output_type": "stream",
     "text": [
      "0.0\n",
      "0.0\n",
      "['(lon:0.00 lat:0.00)', '(lon:0.00 lat:0.00)', '(lon:0.00 lat:0.00)', '(lon:0.00 lat:0.00)']\n",
      "0.0\n",
      "0.3\n"
     ]
    },
    {
     "ename": "AssertionError",
     "evalue": "",
     "output_type": "error",
     "traceback": [
      "\u001b[0;31m---------------------------------------------------------------------------\u001b[0m",
      "\u001b[0;31mAssertionError\u001b[0m                            Traceback (most recent call last)",
      "\u001b[0;32m<ipython-input-231-2411c088c8c6>\u001b[0m in \u001b[0;36m<module>\u001b[0;34m()\u001b[0m\n\u001b[1;32m     53\u001b[0m     \u001b[0;32massert\u001b[0m \u001b[0;34m(\u001b[0m\u001b[0mt\u001b[0m\u001b[0;34m.\u001b[0m\u001b[0mpas_lattitude\u001b[0m\u001b[0;34m==\u001b[0m\u001b[0;36m2\u001b[0m\u001b[0;34m/\u001b[0m\u001b[0;36m3\u001b[0m\u001b[0;34m)\u001b[0m\u001b[0;34m\u001b[0m\u001b[0m\n\u001b[1;32m     54\u001b[0m     \u001b[0mprint\u001b[0m\u001b[0;34m(\u001b[0m\u001b[0;34m[\u001b[0m\u001b[0;34m(\u001b[0m\u001b[0mt\u001b[0m\u001b[0;34m.\u001b[0m\u001b[0mnext_position\u001b[0m\u001b[0;34m(\u001b[0m\u001b[0;34m)\u001b[0m\u001b[0;34m,\u001b[0m \u001b[0;34m\"%s\"\u001b[0m\u001b[0;34m%\u001b[0m\u001b[0mt\u001b[0m\u001b[0;34m.\u001b[0m\u001b[0mposition\u001b[0m\u001b[0;34m)\u001b[0m\u001b[0;34m[\u001b[0m\u001b[0;36m1\u001b[0m\u001b[0;34m]\u001b[0m \u001b[0;32mfor\u001b[0m \u001b[0mx\u001b[0m \u001b[0;32min\u001b[0m \u001b[0mrange\u001b[0m\u001b[0;34m(\u001b[0m\u001b[0;36m4\u001b[0m\u001b[0;34m)\u001b[0m\u001b[0;34m]\u001b[0m\u001b[0;34m)\u001b[0m\u001b[0;34m\u001b[0m\u001b[0m\n\u001b[0;32m---> 55\u001b[0;31m \u001b[0mtest_trajet\u001b[0m\u001b[0;34m(\u001b[0m\u001b[0;34m)\u001b[0m\u001b[0;34m\u001b[0m\u001b[0m\n\u001b[0m\u001b[1;32m     56\u001b[0m \u001b[0;34m\u001b[0m\u001b[0m\n",
      "\u001b[0;32m<ipython-input-231-2411c088c8c6>\u001b[0m in \u001b[0;36mtest_trajet\u001b[0;34m()\u001b[0m\n\u001b[1;32m     23\u001b[0m     \u001b[0mprint\u001b[0m\u001b[0;34m(\u001b[0m\u001b[0mt\u001b[0m\u001b[0;34m.\u001b[0m\u001b[0mpas_lattitude\u001b[0m\u001b[0;34m)\u001b[0m\u001b[0;34m\u001b[0m\u001b[0m\n\u001b[1;32m     24\u001b[0m     \u001b[0;32massert\u001b[0m \u001b[0;34m(\u001b[0m\u001b[0mt\u001b[0m\u001b[0;34m.\u001b[0m\u001b[0mpas_longitude\u001b[0m\u001b[0;34m==\u001b[0m\u001b[0;36m0\u001b[0m\u001b[0;34m)\u001b[0m\u001b[0;34m\u001b[0m\u001b[0m\n\u001b[0;32m---> 25\u001b[0;31m     \u001b[0;32massert\u001b[0m \u001b[0;34m(\u001b[0m\u001b[0mt\u001b[0m\u001b[0;34m.\u001b[0m\u001b[0mpas_lattitude\u001b[0m\u001b[0;34m==\u001b[0m\u001b[0;36m1\u001b[0m\u001b[0;34m/\u001b[0m\u001b[0;36m3\u001b[0m\u001b[0;34m)\u001b[0m\u001b[0;34m\u001b[0m\u001b[0m\n\u001b[0m\u001b[1;32m     26\u001b[0m     \u001b[0mprint\u001b[0m\u001b[0;34m(\u001b[0m\u001b[0;34m[\u001b[0m\u001b[0;34m(\u001b[0m\u001b[0mt\u001b[0m\u001b[0;34m.\u001b[0m\u001b[0mnext_position\u001b[0m\u001b[0;34m(\u001b[0m\u001b[0;34m)\u001b[0m\u001b[0;34m,\u001b[0m \u001b[0;34m\"%s\"\u001b[0m\u001b[0;34m%\u001b[0m\u001b[0mt\u001b[0m\u001b[0;34m.\u001b[0m\u001b[0mposition\u001b[0m\u001b[0;34m)\u001b[0m\u001b[0;34m[\u001b[0m\u001b[0;36m1\u001b[0m\u001b[0;34m]\u001b[0m \u001b[0;32mfor\u001b[0m \u001b[0mx\u001b[0m \u001b[0;32min\u001b[0m \u001b[0mrange\u001b[0m\u001b[0;34m(\u001b[0m\u001b[0;36m4\u001b[0m\u001b[0;34m)\u001b[0m\u001b[0;34m]\u001b[0m\u001b[0;34m)\u001b[0m\u001b[0;34m\u001b[0m\u001b[0m\n\u001b[1;32m     27\u001b[0m \u001b[0;34m\u001b[0m\u001b[0m\n",
      "\u001b[0;31mAssertionError\u001b[0m: "
     ]
    }
   ],
   "source": [
    "def test_trajet():\n",
    "    # de 0,0 a 0,0\n",
    "    depart = Position(longitude =0,lattitude=0)\n",
    "    arrivee = Position(longitude=0,lattitude=0)\n",
    "    t = Trajet(depart, arrivee)\n",
    "    assert (t.depart==depart)\n",
    "    assert (t.destination==arrivee)\n",
    "    assert (t.distance==0)\n",
    "    print(t.pas_longitude)\n",
    "    print(t.pas_lattitude)\n",
    "    assert (t.pas_longitude==0)\n",
    "    assert (t.pas_lattitude==0)\n",
    "    print([(t.next_position(), \"%s\"%t.position)[1] for x in range(4)])\n",
    "    \n",
    "    # de 0,0 a 0,1\n",
    "    depart = Position(longitude =0,lattitude=0)\n",
    "    arrivee = Position(longitude=0,lattitude=1)\n",
    "    t = Trajet(depart, arrivee)\n",
    "    assert (t.depart==depart)\n",
    "    assert (t.destination==arrivee)\n",
    "    assert (t.distance==1)\n",
    "    print(t.pas_longitude)\n",
    "    print(t.pas_lattitude)\n",
    "    assert (t.pas_longitude==0)\n",
    "    assert (t.pas_lattitude==1/3)\n",
    "    print([(t.next_position(), \"%s\"%t.position)[1] for x in range(4)])\n",
    "    \n",
    "    # de 0,0 a 1,1\n",
    "    depart = Position(longitude =0,lattitude=0)\n",
    "    arrivee = Position(longitude=1,lattitude=1)\n",
    "    t = Trajet(depart, arrivee)\n",
    "    assert (t.depart==depart)\n",
    "    assert (t.destination==arrivee)\n",
    "    import math\n",
    "    assert (t.distance==math.sqrt(2))\n",
    "    print(t.pas_longitude)\n",
    "    print(t.pas_lattitude)\n",
    "    assert (t.pas_longitude==1/3)\n",
    "    assert (t.pas_lattitude==1/3)\n",
    "    print([(t.next_position(), \"%s\"%t.position)[1] for x in range(4)])\n",
    "    \n",
    "    # de 0,0 a 1,2\n",
    "    depart = Position(longitude =0,lattitude=0)\n",
    "    arrivee = Position(longitude=1,lattitude=2)\n",
    "    t = Trajet(depart, arrivee)\n",
    "    assert (t.depart==depart)\n",
    "    assert (t.destination==arrivee)\n",
    "    import math\n",
    "    assert (t.distance==math.sqrt(2*2+1*1))\n",
    "    print(t.pas_longitude)\n",
    "    print(t.pas_lattitude)\n",
    "    assert (t.pas_longitude==1/3)\n",
    "    assert (t.pas_lattitude==2/3)\n",
    "    print([(t.next_position(), \"%s\"%t.position)[1] for x in range(4)])\n",
    "test_trajet()\n",
    "    "
   ]
  },
  {
   "cell_type": "markdown",
   "metadata": {},
   "source": [
    "# 4) Station"
   ]
  },
  {
   "cell_type": "code",
   "execution_count": 232,
   "metadata": {},
   "outputs": [
    {
     "name": "stdout",
     "output_type": "stream",
     "text": [
      "Attention : vous allez utiliser un fichier existant !\n"
     ]
    }
   ],
   "source": [
    "class Station:\n",
    "    nb_d_instance =0\n",
    "    station_logger=Logger(\"./stations.csv\")\n",
    "    def __init__(self, position):\n",
    "        import random\n",
    "        Station.nb_d_instance +=1\n",
    "        NB_BORNES_POSSIBLES = [5,10,15,20,30]\n",
    "        self.position       = position\n",
    "        self.nb_bornes      = random.choice(NB_BORNES_POSSIBLES)\n",
    "        self.velos          = [Velo() for i in range(self.nb_bornes)]\n",
    "        self.id             = Station.nb_d_instance\n",
    "    def __str__(self):\n",
    "        to_print = \"Station n° {nom} : {position}, {nb_bornes} bornes, {nb_velos_dispo} velos\"\n",
    "        \n",
    "        return to_print.format(nom=self.id,\n",
    "                               position=self.position,\n",
    "                              nb_bornes=self.nb_bornes,\n",
    "                              nb_velos_dispo=len(self.velos))\n",
    "    def nb_de_velos(self):\n",
    "        return len(self.velos)\n",
    "\n",
    "    def has_empty_place(self):\n",
    "        return len(self.velos) < self.nb_bornes\n",
    "\n",
    "    def has_velo(self):\n",
    "        return 0 < len(self.velos)\n",
    "    def log(self, message):\n",
    "        message=\"station_%s : %s\"%(self.id, message)\n",
    "        Station.station_logger.log(message)\n",
    "        \n",
    "    def deposer_un_velo(self, velo):\n",
    "        if self.has_empty_place():\n",
    "            velo.update_performance()\n",
    "            self.velos.append(velo)\n",
    "            self.log(\"recupere le velo %s\"%velo.id)\n",
    "            return True\n",
    "        else:\n",
    "            self.log(\"complete\")\n",
    "            return False\n",
    "    def prendre_un_velo(self):\n",
    "        if self.has_velo():\n",
    "            velo = self.velos.pop()\n",
    "            self.log(\"donne le velo %s\"%velo.id)\n",
    "            return velo\n",
    "        else:\n",
    "            self.log(\"vide.\")\n",
    "            return False\n",
    "\n",
    "    def nb_velo_under_perf(self, seuil_de_performance=0.5):\n",
    "        test = lambda velo: velo.performance < seuil_de_performance\n",
    "        return len(list(filter(test, self.velos)))\n",
    "        "
   ]
  },
  {
   "cell_type": "markdown",
   "metadata": {},
   "source": [
    "# 5) Prestataire"
   ]
  },
  {
   "cell_type": "code",
   "execution_count": 271,
   "metadata": {},
   "outputs": [],
   "source": [
    "class Prestataire():\n",
    "    def __init__(self, largeur=10, hauteur=10):\n",
    "        self.largeur = largeur\n",
    "        self.hauteur = hauteur\n",
    "        self.reseau = []\n",
    "        for lattitude in range(self.hauteur):\n",
    "            for longitude in range(self.largeur):\n",
    "                emplacement = Position(lattitude, longitude)\n",
    "                new_station = Station(emplacement)\n",
    "                self.reseau.append(new_station)\n",
    "                \n",
    "    def get_closest_station(self, position):\n",
    "        \"\"\"\n",
    "        @Todo : améliorer pour les valeurs en dehors du réseau\n",
    "        \"\"\"\n",
    "        nb_ligne = round(position.longitude)\n",
    "        nb_col   = round(position.lattitude)\n",
    "        indice   =  (nb_ligne * self.largeur) + (nb_col )\n",
    "        if nb_ligne<0 or nb_col<0:\n",
    "            closest  = self.reseau[0]    \n",
    "        try:\n",
    "            closest  = self.reseau[int(indice)]\n",
    "            if is_same_position(closest, position):\n",
    "                print(\"same position\")\n",
    "                closest = self.reseau[int(indice)+1]\n",
    "        except:\n",
    "            closest  = self.reseau[-1]\n",
    "        return closest\n",
    "    \n",
    "\n",
    "    def filtrer_le_reseau(self, function_de_test):\n",
    "        \"\"\"\n",
    "        Renvoie les stations qui passe le test.\n",
    "        \n",
    "        Parameters:\n",
    "            function de test : lambda function\n",
    "        Return:\n",
    "            list\n",
    "        \n",
    "        \"\"\"\n",
    "        return list(filter(function_de_test, self.reseau))\n",
    "    def nb_station_passant_le_test(self, function):\n",
    "        r = self.filtrer_le_reseau(function)\n",
    "        return len(r)\n",
    "    \n",
    "    def nombre_de_stations(self):\n",
    "        return len(self.reseau)\n",
    "    \n",
    "    def nombre_de_velos(self):\n",
    "        return sum(map(lambda x: x.nb_de_velos(),self.reseau))\n",
    "    \n",
    "    def nombre_de_stations_pleine(self):\n",
    "        test  = lambda station: station.nb_bornes == len(station.velos)\n",
    "        return self.nb_station_passant_le_test(test)\n",
    "    \n",
    "    def nombre_de_stations_avec_velo(self):\n",
    "        test = lambda x: x.has_velo()\n",
    "        return self.nb_station_passant_le_test(test)\n",
    "    \n",
    "    def nombre_de_stations_vide(self):\n",
    "        test  = lambda station: not station.has_velo()\n",
    "        return self.nb_station_passant_le_test(test)\n",
    "\n",
    "    def __str__(self):\n",
    "        return \"\"\"\n",
    "                Nb de stations           : %s \n",
    "                Nb de vélos              : %s \n",
    "                Nb de stations avec vélo : %s \n",
    "                Nb de stations pleines   : %s\n",
    "                Nb de stations vides     : %s\n",
    "        \"\"\"%(self.nombre_de_stations(),\n",
    "             self.nombre_de_velos(),\n",
    "             self.nombre_de_stations_avec_velo(),\n",
    "             self.nombre_de_stations_pleine(),\n",
    "             self.nombre_de_stations_vide())\n",
    "    \n",
    "    def nombre_de_velos_sous_performants(self, seuil=0.5):\n",
    "        r = map(lambda station: station.nb_velo_under_perf(seuil), self.reseau)\n",
    "        return sum(list(r))\n",
    "    def get_topology(self):\n",
    "        \"\"\"\n",
    "        Return a Datframe of longitude/lattitude\n",
    "        \"\"\"\n",
    "        import pandas as pd\n",
    "        infos = { \"longitudes\" : [x.position.longitude for x in self.reseau],\n",
    "                  \"lattitude\"  : [x.position.lattitude for x in self.reseau]}\n",
    "        \n",
    "        return pd.DataFrame(infos)\n",
    "        \n",
    "        \n",
    "    "
   ]
  },
  {
   "cell_type": "markdown",
   "metadata": {},
   "source": [
    "# 4.1) Test decaux"
   ]
  },
  {
   "cell_type": "code",
   "execution_count": 272,
   "metadata": {},
   "outputs": [
    {
     "name": "stdout",
     "output_type": "stream",
     "text": [
      "False\n"
     ]
    },
    {
     "ename": "AssertionError",
     "evalue": "",
     "output_type": "error",
     "traceback": [
      "\u001b[0;31m---------------------------------------------------------------------------\u001b[0m",
      "\u001b[0;31mAssertionError\u001b[0m                            Traceback (most recent call last)",
      "\u001b[0;32m<ipython-input-272-b1507fb5af08>\u001b[0m in \u001b[0;36m<module>\u001b[0;34m()\u001b[0m\n\u001b[1;32m     23\u001b[0m     \u001b[0;32massert\u001b[0m\u001b[0;34m(\u001b[0m\u001b[0mcompare_positions\u001b[0m\u001b[0;34m(\u001b[0m\u001b[0mpoint_9_9\u001b[0m\u001b[0;34m,\u001b[0m \u001b[0mp\u001b[0m\u001b[0;34m.\u001b[0m\u001b[0mget_closest_station\u001b[0m\u001b[0;34m(\u001b[0m\u001b[0mpoint_10_10\u001b[0m\u001b[0;34m)\u001b[0m\u001b[0;34m.\u001b[0m\u001b[0mposition\u001b[0m       \u001b[0;34m)\u001b[0m\u001b[0;34m)\u001b[0m\u001b[0;34m\u001b[0m\u001b[0m\n\u001b[1;32m     24\u001b[0m     \u001b[0;32massert\u001b[0m\u001b[0;34m(\u001b[0m\u001b[0mcompare_positions\u001b[0m\u001b[0;34m(\u001b[0m\u001b[0mpoint_zero_zero\u001b[0m\u001b[0;34m,\u001b[0m \u001b[0mp\u001b[0m\u001b[0;34m.\u001b[0m\u001b[0mget_closest_station\u001b[0m\u001b[0;34m(\u001b[0m\u001b[0mpoint_minusOne_minusOne\u001b[0m\u001b[0;34m)\u001b[0m\u001b[0;34m.\u001b[0m\u001b[0mposition\u001b[0m       \u001b[0;34m)\u001b[0m\u001b[0;34m)\u001b[0m\u001b[0;34m\u001b[0m\u001b[0m\n\u001b[0;32m---> 25\u001b[0;31m \u001b[0mtest_prestataire\u001b[0m\u001b[0;34m(\u001b[0m\u001b[0;34m)\u001b[0m\u001b[0;34m\u001b[0m\u001b[0m\n\u001b[0m",
      "\u001b[0;32m<ipython-input-272-b1507fb5af08>\u001b[0m in \u001b[0;36mtest_prestataire\u001b[0;34m()\u001b[0m\n\u001b[1;32m     15\u001b[0m     \u001b[0mpoint_10_10\u001b[0m     \u001b[0;34m=\u001b[0m \u001b[0mPosition\u001b[0m\u001b[0;34m(\u001b[0m\u001b[0mlongitude\u001b[0m\u001b[0;34m=\u001b[0m\u001b[0;36m10\u001b[0m\u001b[0;34m,\u001b[0m\u001b[0mlattitude\u001b[0m\u001b[0;34m=\u001b[0m\u001b[0;36m10\u001b[0m\u001b[0;34m)\u001b[0m\u001b[0;34m\u001b[0m\u001b[0m\n\u001b[1;32m     16\u001b[0m     \u001b[0mprint\u001b[0m\u001b[0;34m(\u001b[0m\u001b[0mp\u001b[0m\u001b[0;34m.\u001b[0m\u001b[0mget_closest_station\u001b[0m\u001b[0;34m(\u001b[0m\u001b[0mpoint_zero_zero\u001b[0m\u001b[0;34m)\u001b[0m\u001b[0;34m.\u001b[0m\u001b[0mposition\u001b[0m\u001b[0;34m==\u001b[0m\u001b[0mPosition\u001b[0m\u001b[0;34m(\u001b[0m\u001b[0;36m0\u001b[0m\u001b[0;34m,\u001b[0m\u001b[0;36m0\u001b[0m\u001b[0;34m)\u001b[0m\u001b[0;34m)\u001b[0m\u001b[0;34m\u001b[0m\u001b[0m\n\u001b[0;32m---> 17\u001b[0;31m     \u001b[0;32massert\u001b[0m\u001b[0;34m(\u001b[0m\u001b[0mcompare_positions\u001b[0m\u001b[0;34m(\u001b[0m\u001b[0mpoint_zero_zero\u001b[0m\u001b[0;34m,\u001b[0m \u001b[0mp\u001b[0m\u001b[0;34m.\u001b[0m\u001b[0mget_closest_station\u001b[0m\u001b[0;34m(\u001b[0m\u001b[0mpoint_zero_zero\u001b[0m\u001b[0;34m)\u001b[0m\u001b[0;34m.\u001b[0m\u001b[0mposition\u001b[0m\u001b[0;34m)\u001b[0m\u001b[0;34m)\u001b[0m\u001b[0;34m\u001b[0m\u001b[0m\n\u001b[0m\u001b[1;32m     18\u001b[0m     \u001b[0;32massert\u001b[0m\u001b[0;34m(\u001b[0m\u001b[0mcompare_positions\u001b[0m\u001b[0;34m(\u001b[0m\u001b[0mpoint_un_un\u001b[0m\u001b[0;34m,\u001b[0m \u001b[0mp\u001b[0m\u001b[0;34m.\u001b[0m\u001b[0mget_closest_station\u001b[0m\u001b[0;34m(\u001b[0m\u001b[0mpoint_un_un\u001b[0m\u001b[0;34m)\u001b[0m\u001b[0;34m.\u001b[0m\u001b[0mposition\u001b[0m\u001b[0;34m)\u001b[0m\u001b[0;34m)\u001b[0m\u001b[0;34m\u001b[0m\u001b[0m\n\u001b[1;32m     19\u001b[0m     \u001b[0;32massert\u001b[0m\u001b[0;34m(\u001b[0m\u001b[0mcompare_positions\u001b[0m\u001b[0;34m(\u001b[0m\u001b[0mpoint_zero_zero\u001b[0m\u001b[0;34m,\u001b[0m \u001b[0mp\u001b[0m\u001b[0;34m.\u001b[0m\u001b[0mget_closest_station\u001b[0m\u001b[0;34m(\u001b[0m\u001b[0mpoint_zero5_zero5\u001b[0m\u001b[0;34m)\u001b[0m\u001b[0;34m.\u001b[0m\u001b[0mposition\u001b[0m   \u001b[0;34m)\u001b[0m\u001b[0;34m)\u001b[0m\u001b[0;34m\u001b[0m\u001b[0m\n",
      "\u001b[0;31mAssertionError\u001b[0m: "
     ]
    }
   ],
   "source": [
    "def test_prestataire():\n",
    "    def compare_positions(p1,p2):\n",
    "        test1 = p1.longitude==p2.longitude \n",
    "        test2 = p1.lattitude==p2.lattitude \n",
    "        return test1 and test2    \n",
    "    p = Prestataire(largeur=10, hauteur=10)\n",
    "    point_minusOne_minusOne = Position(-1,-1)\n",
    "    point_zero_zero = Position(0,0)\n",
    "    point_un_un     = Position(1,1)\n",
    "    point_zero5_zero5     = Position(0.5,0.5)\n",
    "    point_zero6_zero6     = Position(0.6,0.6)\n",
    "    point_2_4_3_2     = Position(longitude=2.4,lattitude=3.2)\n",
    "    point_2_3     = Position(longitude=2,lattitude=3)\n",
    "    point_9_9     = Position(longitude=9,lattitude=9)\n",
    "    point_10_10     = Position(longitude=10,lattitude=10)\n",
    "    print(p.get_closest_station(point_zero_zero).position==Position(0,0))\n",
    "    assert(compare_positions(point_zero_zero, p.get_closest_station(point_zero_zero).position))\n",
    "    assert(compare_positions(point_un_un, p.get_closest_station(point_un_un).position))\n",
    "    assert(compare_positions(point_zero_zero, p.get_closest_station(point_zero5_zero5).position   ))\n",
    "    assert(compare_positions(point_un_un, p.get_closest_station(point_zero6_zero6).position   ))\n",
    "    assert(compare_positions(point_2_3, p.get_closest_station(point_2_4_3_2).position       ))\n",
    "    print(p.get_closest_station(point_10_10).position)\n",
    "    assert(compare_positions(point_9_9, p.get_closest_station(point_10_10).position       ))    \n",
    "    assert(compare_positions(point_zero_zero, p.get_closest_station(point_minusOne_minusOne).position       ))        \n",
    "test_prestataire()"
   ]
  },
  {
   "cell_type": "code",
   "execution_count": 273,
   "metadata": {},
   "outputs": [],
   "source": [
    "def draw(positions):\n",
    "    import pandas as pd\n",
    "    df = pd.DataFrame([ {\"lon\" : x.longitude, \n",
    "                \"lat\": x.lattitude} for x in positions])\n",
    "    df.plot.scatter(x=\"lon\", y=\"lat\")\n",
    "    \n",
    "    "
   ]
  },
  {
   "cell_type": "code",
   "execution_count": 274,
   "metadata": {},
   "outputs": [],
   "source": [
    "r = Prestataire(3,3)"
   ]
  },
  {
   "cell_type": "markdown",
   "metadata": {},
   "source": [
    "# 6) Villes"
   ]
  },
  {
   "cell_type": "code",
   "execution_count": 275,
   "metadata": {},
   "outputs": [],
   "source": [
    "class Ville:\n",
    "    def __init__(self, nb_de_cyclistes, Prestataire):\n",
    "        self.prestataire = Prestataire\n",
    "        x_max = Prestataire.largeur -2\n",
    "        y_max = Prestataire.hauteur-2\n",
    "        self.cyclistes   = [Cycliste(get_random_position(x_max, y_max), get_random_position(x_max, y_max), self) for i in range(nb_de_cyclistes)]\n",
    "        self.ax = None\n",
    "        \n",
    "    def reveil(self):\n",
    "        list(map(lambda cycliste : cycliste.avancer(), self.cyclistes))\n",
    "        \n",
    "    def get_cycliste_workplaces(self):\n",
    "        import pandas as pd\n",
    "        infos = { \"longitudes\" : [cycliste.travail.longitude for cycliste in self.cyclistes],\n",
    "                  \"lattitude\"  : [cycliste.travail.lattitude for cycliste in self.cyclistes]}\n",
    "        return pd.DataFrame(infos)\n",
    "\n",
    "    def get_cycliste_homes(self):\n",
    "        import pandas as pd\n",
    "        infos = { \"longitudes\" : [cycliste.home.longitude for cycliste in self.cyclistes],\n",
    "                  \"lattitude\"  : [cycliste.home.lattitude for cycliste in self.cyclistes]}\n",
    "        return pd.DataFrame(infos)\n",
    "\n",
    "        \n",
    "    def get_cycliste_positions(self):\n",
    "        import pandas as pd\n",
    "        infos = { \"longitudes\" : [x.position.longitude for x in self.cyclistes],\n",
    "                  \"lattitude\"  : [x.position.lattitude for x in self.cyclistes]}\n",
    "        return pd.DataFrame(infos)\n",
    "\n",
    "    def get_topology(self):\n",
    "        import pandas as pd\n",
    "        infos = { \"longitudes\" : [x.position.longitude for x in self.prestataire.reseau],\n",
    "                  \"lattitude\"  : [x.position.lattitude for x in self.prestataire.reseau]}\n",
    "        return pd.DataFrame(infos)\n",
    "    def get_drawing_data(self):\n",
    "        cyclistes  = self.get_cycliste_positions()\n",
    "        stations   = self.get_topology()\n",
    "        homes      = self.get_cycliste_homes()\n",
    "        workplaces = self.get_cycliste_workplaces()\n",
    "        return cyclistes, stations, homes, workplaces\n",
    "\n",
    "    def draw_map(self,ax=None):\n",
    "        import matplotlib.pyplot as plt\n",
    "        cyclistes, stations, homes, workplaces = self.get_drawing_data()\n",
    "        if not ax:\n",
    "            ax = stations.plot.scatter(      x=\"longitudes\", y=\"lattitude\", c=\"grey\"   , marker=\"D\", alpha=0.4)\n",
    "        else:\n",
    "            stations.plot.scatter(      x=\"longitudes\", y=\"lattitude\", c=\"grey\"   , marker=\"D\", alpha=0.1, ax=ax)\n",
    "        homes.plot.scatter(         x=\"longitudes\", y=\"lattitude\", c=\"green\"  , marker=\"s\", ax=ax )\n",
    "        workplaces.plot.scatter(    x=\"longitudes\", y=\"lattitude\", c=\"red\"    , marker=\"x\", ax=ax )\n",
    "        cyclistes.plot.scatter(x=\"longitudes\", y=\"lattitude\", c=\"blue\", marker=\"1\"        , ax=ax)\n",
    "        fig = plt.gcf()\n",
    "        fig.suptitle(str(cyclistes))\n",
    "        return ax\n",
    "        "
   ]
  },
  {
   "cell_type": "code",
   "execution_count": 276,
   "metadata": {},
   "outputs": [],
   "source": [
    "def test_ville():\n",
    "    \n",
    "    p = Prestataire(3,3)\n",
    "    nb_cyclistes = 2\n",
    "    v = Ville(nb_cyclistes,p)\n",
    "    assert(len(v.cyclistes)==nb_cyclistes)"
   ]
  },
  {
   "cell_type": "markdown",
   "metadata": {},
   "source": [
    "# 7) Cycliste"
   ]
  },
  {
   "cell_type": "code",
   "execution_count": 277,
   "metadata": {},
   "outputs": [
    {
     "name": "stdout",
     "output_type": "stream",
     "text": [
      "cycliste_3 : next trajet = travail\n"
     ]
    },
    {
     "data": {
      "text/plain": [
       "<__main__.Cycliste at 0x138957358>"
      ]
     },
     "execution_count": 277,
     "metadata": {},
     "output_type": "execute_result"
    }
   ],
   "source": [
    "Cycliste(p1,p2, paris)"
   ]
  },
  {
   "cell_type": "code",
   "execution_count": 1,
   "metadata": {},
   "outputs": [
    {
     "ename": "NameError",
     "evalue": "name 'Logger' is not defined",
     "output_type": "error",
     "traceback": [
      "\u001b[0;31m---------------------------------------------------------------------------\u001b[0m",
      "\u001b[0;31mNameError\u001b[0m                                 Traceback (most recent call last)",
      "\u001b[0;32m<ipython-input-1-238780ff91e2>\u001b[0m in \u001b[0;36m<module>\u001b[0;34m()\u001b[0m\n\u001b[0;32m----> 1\u001b[0;31m \u001b[0;32mclass\u001b[0m \u001b[0mCycliste\u001b[0m\u001b[0;34m:\u001b[0m\u001b[0;34m\u001b[0m\u001b[0m\n\u001b[0m\u001b[1;32m      2\u001b[0m     \u001b[0mnb_d_instance\u001b[0m \u001b[0;34m=\u001b[0m\u001b[0;36m0\u001b[0m\u001b[0;34m\u001b[0m\u001b[0m\n\u001b[1;32m      3\u001b[0m     \u001b[0mcycliste_logger\u001b[0m\u001b[0;34m=\u001b[0m \u001b[0mLogger\u001b[0m\u001b[0;34m(\u001b[0m\u001b[0;34m\"./cyclistes.csv\"\u001b[0m\u001b[0;34m)\u001b[0m\u001b[0;34m\u001b[0m\u001b[0m\n\u001b[1;32m      4\u001b[0m     \u001b[0;32mdef\u001b[0m \u001b[0m__init__\u001b[0m\u001b[0;34m(\u001b[0m\u001b[0mself\u001b[0m\u001b[0;34m,\u001b[0m \u001b[0mposition_home\u001b[0m\u001b[0;34m,\u001b[0m \u001b[0mposition_travail\u001b[0m\u001b[0;34m,\u001b[0m \u001b[0mville\u001b[0m\u001b[0;34m)\u001b[0m\u001b[0;34m:\u001b[0m\u001b[0;34m\u001b[0m\u001b[0m\n\u001b[1;32m      5\u001b[0m         \u001b[0;32mimport\u001b[0m \u001b[0mrandom\u001b[0m\u001b[0;34m\u001b[0m\u001b[0m\n",
      "\u001b[0;32m<ipython-input-1-238780ff91e2>\u001b[0m in \u001b[0;36mCycliste\u001b[0;34m()\u001b[0m\n\u001b[1;32m      1\u001b[0m \u001b[0;32mclass\u001b[0m \u001b[0mCycliste\u001b[0m\u001b[0;34m:\u001b[0m\u001b[0;34m\u001b[0m\u001b[0m\n\u001b[1;32m      2\u001b[0m     \u001b[0mnb_d_instance\u001b[0m \u001b[0;34m=\u001b[0m\u001b[0;36m0\u001b[0m\u001b[0;34m\u001b[0m\u001b[0m\n\u001b[0;32m----> 3\u001b[0;31m     \u001b[0mcycliste_logger\u001b[0m\u001b[0;34m=\u001b[0m \u001b[0mLogger\u001b[0m\u001b[0;34m(\u001b[0m\u001b[0;34m\"./cyclistes.csv\"\u001b[0m\u001b[0;34m)\u001b[0m\u001b[0;34m\u001b[0m\u001b[0m\n\u001b[0m\u001b[1;32m      4\u001b[0m     \u001b[0;32mdef\u001b[0m \u001b[0m__init__\u001b[0m\u001b[0;34m(\u001b[0m\u001b[0mself\u001b[0m\u001b[0;34m,\u001b[0m \u001b[0mposition_home\u001b[0m\u001b[0;34m,\u001b[0m \u001b[0mposition_travail\u001b[0m\u001b[0;34m,\u001b[0m \u001b[0mville\u001b[0m\u001b[0;34m)\u001b[0m\u001b[0;34m:\u001b[0m\u001b[0;34m\u001b[0m\u001b[0m\n\u001b[1;32m      5\u001b[0m         \u001b[0;32mimport\u001b[0m \u001b[0mrandom\u001b[0m\u001b[0;34m\u001b[0m\u001b[0m\n",
      "\u001b[0;31mNameError\u001b[0m: name 'Logger' is not defined"
     ]
    }
   ],
   "source": [
    "class Cycliste:\n",
    "    nb_d_instance =0\n",
    "    cycliste_logger= Logger(\"./cyclistes.csv\")\n",
    "    def __init__(self, position_home, position_travail, ville):\n",
    "        import random\n",
    "        import numpy as np\n",
    "        Cycliste.nb_d_instance +=1\n",
    "        self.id           = Cycliste.nb_d_instance\n",
    "        self.home         = position_home\n",
    "        self.travail      = position_travail\n",
    "        self.est_en_route = False\n",
    "        self.position     = position_home\n",
    "        self.destination  = position_travail\n",
    "        self.sur_velo     = False\n",
    "        self.velo         = False\n",
    "        self.sexe         = random.choice([\"H\", \"F\"])\n",
    "        self.age          = random.choice(range(15,85))\n",
    "        self.sportivite   = np.random.normal(2, 2)\n",
    "        self.vitesse_a_pied = 2 * self.sportivite \n",
    "        self.vitesse_a_velo = 5 * self.sportivite\n",
    "        self.ville        = ville\n",
    "        self.set_next_trajet()\n",
    "    \n",
    "    def vitesse(self):\n",
    "        if self.sur_velo:\n",
    "            return self.vitesse_a_velo\n",
    "        else:\n",
    "            return self.vitesse_a_pied\n",
    "        \n",
    "    def est_a_la_maison(self):\n",
    "        return self.position == self.home\n",
    "    def est_au_travail(self):\n",
    "        return self.position == self.travail\n",
    "    def est_arrive(self):\n",
    "        return self.position == self.destination\n",
    "    \n",
    "    def log(self, message):\n",
    "        message=\"cycliste_%s : %s\"%(self.id, message)\n",
    "        Cycliste.cycliste_logger.log(message)\n",
    "        \n",
    "    def trouve_velo(self):\n",
    "        limite = 10\n",
    "        while not self.sur_velo and 0 < limite :\n",
    "            limite         = limite - 1\n",
    "            station_proche = self.ville.prestataire.get_closest_station(self.position)\n",
    "            self.log(\"Go to station : %s %s\"%(station_proche.id, station_proche.position))\n",
    "            self.go_to(station_proche.position)\n",
    "            if self.est_arrive():\n",
    "                self.log(\"essaie station : %s \"%station_proche.id)\n",
    "                velo           = station_proche.prendre_un_velo()\n",
    "                self.position  = station_proche.position \n",
    "                self.destination = self.destination_finale\n",
    "                if velo:\n",
    "                    self.log(\"trouve velo %s sur station %s\"%(velo.id, station_proche.id))\n",
    "                    self.sur_velo = True # break the loop\n",
    "                    self.velo     = velo\n",
    "                    \n",
    "                    self.set_next_trajet()\n",
    "                \n",
    "                \n",
    "    def rendre_velo(self):\n",
    "        limite = 10\n",
    "        while self.sur_velo and 0 < limite :\n",
    "            limite         = limite - 1\n",
    "            station_proche = self.ville.prestataire.get_closest_station(self.position)\n",
    "            velo_rendu     = station_proche.deposer_un_velo(self.velo)\n",
    "            self.log(\"essaie de rendre sur la station : %s \"%station_proche.id)\n",
    "            self.position  = station_proche.position \n",
    "            if velo_rendu:\n",
    "                self.log( \"velo rendu sur la station sur : %s\"%station_proche.id)\n",
    "                self.sur_velo = False\n",
    "                self.velo     = False\n",
    "                self.set_next_trajet()\n",
    "                \n",
    "    def set_next_trajet(self):\n",
    "        if self.est_a_la_maison():\n",
    "            self.log(\"next trajet = travail\")\n",
    "            self.destination = self.travail\n",
    "            self.destination_finale = self.travail\n",
    "        if self.est_au_travail():\n",
    "            self.log(\"next trajet = maison\")\n",
    "            self.destination = self.home\n",
    "            self.destination_finale = self.home\n",
    "        self.trajet = Trajet(self.position, self.destination, self.vitesse())\n",
    "    \n",
    "    def ou_suis_je(self):\n",
    "        if self.est_a_la_maison():\n",
    "            return \" a la maison\"\n",
    "        if self.est_au_travail():\n",
    "            return \" au travail\"\n",
    "        if self.est_en_route:\n",
    "            return \" en route\"\n",
    "    def ou_vais_je(self):\n",
    "        if self.destination == self.travail:\n",
    "            return \" au travail\"\n",
    "        if self.destination == self.home:\n",
    "            return \" a la maison\"\n",
    "    def go_to(self,position):\n",
    "        self.destination = position\n",
    "        self.trajet      = Trajet(self.position, self.destination)\n",
    "        print(\"current = %s, next =%s, est_arrive=%s, trajet=%s\"%(self.position, self.trajet.next_position(), self.est_arrive(), self.trajet)) \n",
    "        self.position    = self.trajet.next_position()\n",
    "        \n",
    "    def avancer(self):\n",
    "        if self.sur_velo:\n",
    "            self.log( \"est sur un velo\")\n",
    "            if self.est_arrive():\n",
    "                self.log( \"est arrive %s(%s)\"%(self.ou_suis_je(), self.position.__dict__))\n",
    "                self.set_next_trajet()\n",
    "                self.rendre_velo()\n",
    "            else:\n",
    "                self.go_to(self.destination)\n",
    "                self.log( \"va a la prochaine position (%s): %s \"%(self.ou_vais_je(), self.position.__dict__))\n",
    "        else:\n",
    "            self.log( \"va chercher un velo\")\n",
    "            self.trouve_velo()"
   ]
  },
  {
   "cell_type": "markdown",
   "metadata": {},
   "source": [
    "# 7) Algo"
   ]
  },
  {
   "cell_type": "code",
   "execution_count": 279,
   "metadata": {},
   "outputs": [
    {
     "name": "stdout",
     "output_type": "stream",
     "text": [
      "Using matplotlib backend: MacOSX\n",
      "\n",
      "                Nb de stations           : 100 \n",
      "                Nb de vélos              : 1520 \n",
      "                Nb de stations avec vélo : 100 \n",
      "                Nb de stations pleines   : 100\n",
      "                Nb de stations vides     : 0\n",
      "        \n",
      "cycliste_1 : next trajet = travail\n"
     ]
    },
    {
     "data": {
      "text/plain": [
       "<matplotlib.axes._subplots.AxesSubplot at 0x12fe977b8>"
      ]
     },
     "execution_count": 279,
     "metadata": {},
     "output_type": "execute_result"
    }
   ],
   "source": [
    "%matplotlib\n",
    "JcDecaux = Prestataire(10,10)\n",
    "print(JcDecaux)\n",
    "paris = Ville(1, JcDecaux)\n",
    "paris.draw_map()"
   ]
  },
  {
   "cell_type": "code",
   "execution_count": 280,
   "metadata": {},
   "outputs": [],
   "source": [
    "def is_same_position(p1, p2):\n",
    "    return p1.lattitude==p2.lattitude and p1.longitude==p2.longitude"
   ]
  },
  {
   "cell_type": "code",
   "execution_count": 283,
   "metadata": {},
   "outputs": [],
   "source": [
    "import pandas as pd"
   ]
  },
  {
   "cell_type": "code",
   "execution_count": 286,
   "metadata": {
    "scrolled": false
   },
   "outputs": [
    {
     "name": "stdout",
     "output_type": "stream",
     "text": [
      "cycliste_1 : est sur un velo\n",
      "cycliste_1 : est arrive  au travail({'longitude': 8.686342379012316, 'lattitude': 3.2167980081435967})\n",
      "cycliste_1 : next trajet = maison\n",
      "station_718 : recupere le velo velo_22101\n",
      "cycliste_1 : essaie de rendre sur la station : 718 \n",
      "cycliste_1 : velo rendu sur la station sur : 718\n",
      "------------------------------\n",
      "cycliste_1 : va chercher un velo\n",
      "cycliste_1 : Go to station : 718 (lon:9.00 lat:9.00)\n",
      "current = (lon:9.00 lat:9.00), next =(lon:9.00 lat:9.00), est_arrive=True, trajet=(lon:9.00 lat:9.00) -> (lon:9.00 lat:9.00)\n",
      "cycliste_1 : essaie station : 718 \n",
      "station_718 : donne le velo velo_22101\n",
      "cycliste_1 : trouve velo velo_22101 sur station 718\n",
      "------------------------------\n",
      "cycliste_1 : est sur un velo\n",
      "current = (lon:9.00 lat:9.00), next =(lon:6.54 lat:6.77), est_arrive=False, trajet=(lon:9.00 lat:9.00) -> (lon:0.80 lat:1.58)\n",
      "cycliste_1 : va a la prochaine position ( a la maison): {'longitude': 4.077245766336649, 'lattitude': 4.549552984463213} \n"
     ]
    },
    {
     "name": "stderr",
     "output_type": "stream",
     "text": [
      "/Users/romain/anaconda3/lib/python3.6/site-packages/matplotlib/pyplot.py:537: RuntimeWarning: More than 20 figures have been opened. Figures created through the pyplot interface (`matplotlib.pyplot.figure`) are retained until explicitly closed and may consume too much memory. (To control this warning, see the rcParam `figure.max_open_warning`).\n",
      "  max_open_warning, RuntimeWarning)\n"
     ]
    },
    {
     "name": "stdout",
     "output_type": "stream",
     "text": [
      "------------------------------\n",
      "cycliste_1 : est sur un velo\n",
      "current = (lon:4.08 lat:4.55), next =(lon:3.09 lat:3.66), est_arrive=False, trajet=(lon:4.08 lat:4.55) -> (lon:0.80 lat:1.58)\n",
      "cycliste_1 : va a la prochaine position ( a la maison): {'longitude': 2.1081440728713075, 'lattitude': 2.7693741782484986} \n",
      "------------------------------\n",
      "cycliste_1 : est sur un velo\n",
      "current = (lon:2.11 lat:2.77), next =(lon:1.71 lat:2.41), est_arrive=False, trajet=(lon:2.11 lat:2.77) -> (lon:0.80 lat:1.58)\n",
      "cycliste_1 : va a la prochaine position ( a la maison): {'longitude': 1.3205033954851713, 'lattitude': 2.057302655762612} \n",
      "------------------------------\n",
      "cycliste_1 : est sur un velo\n",
      "current = (lon:1.32 lat:2.06), next =(lon:1.16 lat:1.91), est_arrive=False, trajet=(lon:1.32 lat:2.06) -> (lon:0.80 lat:1.58)\n",
      "cycliste_1 : va a la prochaine position ( a la maison): {'longitude': 1.0054471245307166, 'lattitude': 1.7724740467682576} \n",
      "------------------------------\n",
      "cycliste_1 : est sur un velo\n",
      "current = (lon:1.01 lat:1.77), next =(lon:0.94 lat:1.72), est_arrive=False, trajet=(lon:1.01 lat:1.77) -> (lon:0.80 lat:1.58)\n",
      "cycliste_1 : va a la prochaine position ( a la maison): {'longitude': 0.8794246161489347, 'lattitude': 1.658542603170516} \n",
      "------------------------------\n",
      "cycliste_1 : est sur un velo\n",
      "current = (lon:0.88 lat:1.66), next =(lon:0.85 lat:1.64), est_arrive=False, trajet=(lon:0.88 lat:1.66) -> (lon:0.80 lat:1.58)\n",
      "cycliste_1 : va a la prochaine position ( a la maison): {'longitude': 0.7954096105610803, 'lattitude': 1.5825883074386882} \n",
      "------------------------------\n",
      "cycliste_1 : est sur un velo\n",
      "cycliste_1 : est arrive  a la maison({'longitude': 0.7954096105610803, 'lattitude': 1.5825883074386882})\n",
      "cycliste_1 : next trajet = travail\n",
      "station_718 : recupere le velo velo_22101\n",
      "cycliste_1 : essaie de rendre sur la station : 718 \n",
      "cycliste_1 : velo rendu sur la station sur : 718\n",
      "------------------------------\n",
      "cycliste_1 : va chercher un velo\n",
      "cycliste_1 : Go to station : 718 (lon:9.00 lat:9.00)\n",
      "current = (lon:9.00 lat:9.00), next =(lon:9.00 lat:9.00), est_arrive=True, trajet=(lon:9.00 lat:9.00) -> (lon:9.00 lat:9.00)\n",
      "cycliste_1 : essaie station : 718 \n",
      "station_718 : donne le velo velo_22101\n",
      "cycliste_1 : trouve velo velo_22101 sur station 718\n",
      "------------------------------\n",
      "cycliste_1 : est sur un velo\n",
      "current = (lon:9.00 lat:9.00), next =(lon:8.91 lat:7.27), est_arrive=False, trajet=(lon:9.00 lat:9.00) -> (lon:8.69 lat:3.22)\n",
      "cycliste_1 : va a la prochaine position ( au travail): {'longitude': 8.81180542740739, 'lattitude': 5.530078804886159} \n",
      "------------------------------\n",
      "cycliste_1 : est sur un velo\n",
      "current = (lon:8.81 lat:5.53), next =(lon:8.77 lat:4.84), est_arrive=False, trajet=(lon:8.81 lat:5.53) -> (lon:8.69 lat:3.22)\n",
      "cycliste_1 : va a la prochaine position ( au travail): {'longitude': 8.736527598370344, 'lattitude': 4.142110326840621} \n",
      "------------------------------\n",
      "cycliste_1 : est sur un velo\n",
      "current = (lon:8.74 lat:4.14), next =(lon:8.72 lat:3.86), est_arrive=False, trajet=(lon:8.74 lat:4.14) -> (lon:8.69 lat:3.22)\n",
      "cycliste_1 : va a la prochaine position ( au travail): {'longitude': 8.706416466755527, 'lattitude': 3.5869229356224066} \n",
      "------------------------------\n",
      "cycliste_1 : est sur un velo\n",
      "current = (lon:8.71 lat:3.59), next =(lon:8.70 lat:3.48), est_arrive=False, trajet=(lon:8.71 lat:3.59) -> (lon:8.69 lat:3.22)\n",
      "cycliste_1 : va a la prochaine position ( au travail): {'longitude': 8.6943720141096, 'lattitude': 3.3648479791351207} \n",
      "------------------------------\n",
      "cycliste_1 : est sur un velo\n",
      "current = (lon:8.69 lat:3.36), next =(lon:8.69 lat:3.32), est_arrive=False, trajet=(lon:8.69 lat:3.36) -> (lon:8.69 lat:3.22)\n",
      "cycliste_1 : va a la prochaine position ( au travail): {'longitude': 8.68955423305123, 'lattitude': 3.2760179965402063} \n",
      "------------------------------\n",
      "cycliste_1 : est sur un velo\n",
      "current = (lon:8.69 lat:3.28), next =(lon:8.69 lat:3.22), est_arrive=False, trajet=(lon:8.69 lat:3.28) -> (lon:8.69 lat:3.22)\n",
      "cycliste_1 : va a la prochaine position ( au travail): {'longitude': 8.686342379012316, 'lattitude': 3.2167980081435967} \n",
      "------------------------------\n",
      "cycliste_1 : est sur un velo\n",
      "cycliste_1 : est arrive  au travail({'longitude': 8.686342379012316, 'lattitude': 3.2167980081435967})\n",
      "cycliste_1 : next trajet = maison\n",
      "station_718 : recupere le velo velo_22101\n",
      "cycliste_1 : essaie de rendre sur la station : 718 \n",
      "cycliste_1 : velo rendu sur la station sur : 718\n",
      "------------------------------\n",
      "cycliste_1 : va chercher un velo\n",
      "cycliste_1 : Go to station : 718 (lon:9.00 lat:9.00)\n",
      "current = (lon:9.00 lat:9.00), next =(lon:9.00 lat:9.00), est_arrive=True, trajet=(lon:9.00 lat:9.00) -> (lon:9.00 lat:9.00)\n",
      "cycliste_1 : essaie station : 718 \n",
      "station_718 : donne le velo velo_22101\n",
      "cycliste_1 : trouve velo velo_22101 sur station 718\n",
      "------------------------------\n",
      "cycliste_1 : est sur un velo\n",
      "current = (lon:9.00 lat:9.00), next =(lon:6.54 lat:6.77), est_arrive=False, trajet=(lon:9.00 lat:9.00) -> (lon:0.80 lat:1.58)\n",
      "cycliste_1 : va a la prochaine position ( a la maison): {'longitude': 4.077245766336649, 'lattitude': 4.549552984463213} \n",
      "------------------------------\n",
      "cycliste_1 : est sur un velo\n",
      "current = (lon:4.08 lat:4.55), next =(lon:3.09 lat:3.66), est_arrive=False, trajet=(lon:4.08 lat:4.55) -> (lon:0.80 lat:1.58)\n",
      "cycliste_1 : va a la prochaine position ( a la maison): {'longitude': 2.1081440728713075, 'lattitude': 2.7693741782484986} \n",
      "------------------------------\n",
      "cycliste_1 : est sur un velo\n",
      "current = (lon:2.11 lat:2.77), next =(lon:1.71 lat:2.41), est_arrive=False, trajet=(lon:2.11 lat:2.77) -> (lon:0.80 lat:1.58)\n",
      "cycliste_1 : va a la prochaine position ( a la maison): {'longitude': 1.3205033954851713, 'lattitude': 2.057302655762612} \n",
      "------------------------------\n",
      "cycliste_1 : est sur un velo\n",
      "current = (lon:1.32 lat:2.06), next =(lon:1.16 lat:1.91), est_arrive=False, trajet=(lon:1.32 lat:2.06) -> (lon:0.80 lat:1.58)\n",
      "cycliste_1 : va a la prochaine position ( a la maison): {'longitude': 1.0054471245307166, 'lattitude': 1.7724740467682576} \n",
      "------------------------------\n",
      "cycliste_1 : est sur un velo\n",
      "current = (lon:1.01 lat:1.77), next =(lon:0.94 lat:1.72), est_arrive=False, trajet=(lon:1.01 lat:1.77) -> (lon:0.80 lat:1.58)\n",
      "cycliste_1 : va a la prochaine position ( a la maison): {'longitude': 0.8794246161489347, 'lattitude': 1.658542603170516} \n",
      "------------------------------\n",
      "cycliste_1 : est sur un velo\n",
      "current = (lon:0.88 lat:1.66), next =(lon:0.85 lat:1.64), est_arrive=False, trajet=(lon:0.88 lat:1.66) -> (lon:0.80 lat:1.58)\n",
      "cycliste_1 : va a la prochaine position ( a la maison): {'longitude': 0.7954096105610803, 'lattitude': 1.5825883074386882} \n",
      "------------------------------\n",
      "cycliste_1 : est sur un velo\n",
      "cycliste_1 : est arrive  a la maison({'longitude': 0.7954096105610803, 'lattitude': 1.5825883074386882})\n",
      "cycliste_1 : next trajet = travail\n",
      "station_718 : recupere le velo velo_22101\n",
      "cycliste_1 : essaie de rendre sur la station : 718 \n",
      "cycliste_1 : velo rendu sur la station sur : 718\n",
      "------------------------------\n",
      "cycliste_1 : va chercher un velo\n",
      "cycliste_1 : Go to station : 718 (lon:9.00 lat:9.00)\n",
      "current = (lon:9.00 lat:9.00), next =(lon:9.00 lat:9.00), est_arrive=True, trajet=(lon:9.00 lat:9.00) -> (lon:9.00 lat:9.00)\n",
      "cycliste_1 : essaie station : 718 \n",
      "station_718 : donne le velo velo_22101\n",
      "cycliste_1 : trouve velo velo_22101 sur station 718\n",
      "------------------------------\n",
      "cycliste_1 : est sur un velo\n",
      "current = (lon:9.00 lat:9.00), next =(lon:8.91 lat:7.27), est_arrive=False, trajet=(lon:9.00 lat:9.00) -> (lon:8.69 lat:3.22)\n",
      "cycliste_1 : va a la prochaine position ( au travail): {'longitude': 8.81180542740739, 'lattitude': 5.530078804886159} \n",
      "------------------------------\n",
      "cycliste_1 : est sur un velo\n",
      "current = (lon:8.81 lat:5.53), next =(lon:8.77 lat:4.84), est_arrive=False, trajet=(lon:8.81 lat:5.53) -> (lon:8.69 lat:3.22)\n",
      "cycliste_1 : va a la prochaine position ( au travail): {'longitude': 8.736527598370344, 'lattitude': 4.142110326840621} \n",
      "------------------------------\n",
      "cycliste_1 : est sur un velo\n",
      "current = (lon:8.74 lat:4.14), next =(lon:8.72 lat:3.86), est_arrive=False, trajet=(lon:8.74 lat:4.14) -> (lon:8.69 lat:3.22)\n",
      "cycliste_1 : va a la prochaine position ( au travail): {'longitude': 8.706416466755527, 'lattitude': 3.5869229356224066} \n",
      "------------------------------\n",
      "cycliste_1 : est sur un velo\n",
      "current = (lon:8.71 lat:3.59), next =(lon:8.70 lat:3.48), est_arrive=False, trajet=(lon:8.71 lat:3.59) -> (lon:8.69 lat:3.22)\n",
      "cycliste_1 : va a la prochaine position ( au travail): {'longitude': 8.6943720141096, 'lattitude': 3.3648479791351207} \n",
      "------------------------------\n",
      "cycliste_1 : est sur un velo\n",
      "current = (lon:8.69 lat:3.36), next =(lon:8.69 lat:3.32), est_arrive=False, trajet=(lon:8.69 lat:3.36) -> (lon:8.69 lat:3.22)\n",
      "cycliste_1 : va a la prochaine position ( au travail): {'longitude': 8.68955423305123, 'lattitude': 3.2760179965402063} \n",
      "------------------------------\n",
      "cycliste_1 : est sur un velo\n",
      "current = (lon:8.69 lat:3.28), next =(lon:8.69 lat:3.22), est_arrive=False, trajet=(lon:8.69 lat:3.28) -> (lon:8.69 lat:3.22)\n",
      "cycliste_1 : va a la prochaine position ( au travail): {'longitude': 8.686342379012316, 'lattitude': 3.2167980081435967} \n",
      "------------------------------\n",
      "cycliste_1 : est sur un velo\n",
      "cycliste_1 : est arrive  au travail({'longitude': 8.686342379012316, 'lattitude': 3.2167980081435967})\n",
      "cycliste_1 : next trajet = maison\n",
      "station_718 : recupere le velo velo_22101\n",
      "cycliste_1 : essaie de rendre sur la station : 718 \n",
      "cycliste_1 : velo rendu sur la station sur : 718\n",
      "------------------------------\n",
      "cycliste_1 : va chercher un velo\n",
      "cycliste_1 : Go to station : 718 (lon:9.00 lat:9.00)\n",
      "current = (lon:9.00 lat:9.00), next =(lon:9.00 lat:9.00), est_arrive=True, trajet=(lon:9.00 lat:9.00) -> (lon:9.00 lat:9.00)\n",
      "cycliste_1 : essaie station : 718 \n",
      "station_718 : donne le velo velo_22101\n",
      "cycliste_1 : trouve velo velo_22101 sur station 718\n",
      "------------------------------\n",
      "cycliste_1 : est sur un velo\n",
      "current = (lon:9.00 lat:9.00), next =(lon:6.54 lat:6.77), est_arrive=False, trajet=(lon:9.00 lat:9.00) -> (lon:0.80 lat:1.58)\n",
      "cycliste_1 : va a la prochaine position ( a la maison): {'longitude': 4.077245766336649, 'lattitude': 4.549552984463213} \n",
      "------------------------------\n",
      "cycliste_1 : est sur un velo\n",
      "current = (lon:4.08 lat:4.55), next =(lon:3.09 lat:3.66), est_arrive=False, trajet=(lon:4.08 lat:4.55) -> (lon:0.80 lat:1.58)\n",
      "cycliste_1 : va a la prochaine position ( a la maison): {'longitude': 2.1081440728713075, 'lattitude': 2.7693741782484986} \n",
      "------------------------------\n",
      "cycliste_1 : est sur un velo\n",
      "current = (lon:2.11 lat:2.77), next =(lon:1.71 lat:2.41), est_arrive=False, trajet=(lon:2.11 lat:2.77) -> (lon:0.80 lat:1.58)\n",
      "cycliste_1 : va a la prochaine position ( a la maison): {'longitude': 1.3205033954851713, 'lattitude': 2.057302655762612} \n",
      "------------------------------\n",
      "cycliste_1 : est sur un velo\n",
      "current = (lon:1.32 lat:2.06), next =(lon:1.16 lat:1.91), est_arrive=False, trajet=(lon:1.32 lat:2.06) -> (lon:0.80 lat:1.58)\n",
      "cycliste_1 : va a la prochaine position ( a la maison): {'longitude': 1.0054471245307166, 'lattitude': 1.7724740467682576} \n",
      "------------------------------\n",
      "cycliste_1 : est sur un velo\n",
      "current = (lon:1.01 lat:1.77), next =(lon:0.94 lat:1.72), est_arrive=False, trajet=(lon:1.01 lat:1.77) -> (lon:0.80 lat:1.58)\n",
      "cycliste_1 : va a la prochaine position ( a la maison): {'longitude': 0.8794246161489347, 'lattitude': 1.658542603170516} \n",
      "------------------------------\n",
      "cycliste_1 : est sur un velo\n",
      "current = (lon:0.88 lat:1.66), next =(lon:0.85 lat:1.64), est_arrive=False, trajet=(lon:0.88 lat:1.66) -> (lon:0.80 lat:1.58)\n",
      "cycliste_1 : va a la prochaine position ( a la maison): {'longitude': 0.7954096105610803, 'lattitude': 1.5825883074386882} \n",
      "------------------------------\n",
      "cycliste_1 : est sur un velo\n",
      "cycliste_1 : est arrive  a la maison({'longitude': 0.7954096105610803, 'lattitude': 1.5825883074386882})\n",
      "cycliste_1 : next trajet = travail\n",
      "station_718 : recupere le velo velo_22101\n",
      "cycliste_1 : essaie de rendre sur la station : 718 \n",
      "cycliste_1 : velo rendu sur la station sur : 718\n",
      "------------------------------\n",
      "cycliste_1 : va chercher un velo\n",
      "cycliste_1 : Go to station : 718 (lon:9.00 lat:9.00)\n",
      "current = (lon:9.00 lat:9.00), next =(lon:9.00 lat:9.00), est_arrive=True, trajet=(lon:9.00 lat:9.00) -> (lon:9.00 lat:9.00)\n",
      "cycliste_1 : essaie station : 718 \n",
      "station_718 : donne le velo velo_22101\n",
      "cycliste_1 : trouve velo velo_22101 sur station 718\n",
      "------------------------------\n",
      "cycliste_1 : est sur un velo\n",
      "current = (lon:9.00 lat:9.00), next =(lon:8.91 lat:7.27), est_arrive=False, trajet=(lon:9.00 lat:9.00) -> (lon:8.69 lat:3.22)\n",
      "cycliste_1 : va a la prochaine position ( au travail): {'longitude': 8.81180542740739, 'lattitude': 5.530078804886159} \n",
      "------------------------------\n",
      "cycliste_1 : est sur un velo\n",
      "current = (lon:8.81 lat:5.53), next =(lon:8.77 lat:4.84), est_arrive=False, trajet=(lon:8.81 lat:5.53) -> (lon:8.69 lat:3.22)\n",
      "cycliste_1 : va a la prochaine position ( au travail): {'longitude': 8.736527598370344, 'lattitude': 4.142110326840621} \n",
      "------------------------------\n",
      "cycliste_1 : est sur un velo\n",
      "current = (lon:8.74 lat:4.14), next =(lon:8.72 lat:3.86), est_arrive=False, trajet=(lon:8.74 lat:4.14) -> (lon:8.69 lat:3.22)\n",
      "cycliste_1 : va a la prochaine position ( au travail): {'longitude': 8.706416466755527, 'lattitude': 3.5869229356224066} \n",
      "------------------------------\n",
      "cycliste_1 : est sur un velo\n",
      "current = (lon:8.71 lat:3.59), next =(lon:8.70 lat:3.48), est_arrive=False, trajet=(lon:8.71 lat:3.59) -> (lon:8.69 lat:3.22)\n",
      "cycliste_1 : va a la prochaine position ( au travail): {'longitude': 8.6943720141096, 'lattitude': 3.3648479791351207} \n",
      "------------------------------\n",
      "cycliste_1 : est sur un velo\n",
      "current = (lon:8.69 lat:3.36), next =(lon:8.69 lat:3.32), est_arrive=False, trajet=(lon:8.69 lat:3.36) -> (lon:8.69 lat:3.22)\n",
      "cycliste_1 : va a la prochaine position ( au travail): {'longitude': 8.68955423305123, 'lattitude': 3.2760179965402063} \n",
      "------------------------------\n",
      "cycliste_1 : est sur un velo\n",
      "current = (lon:8.69 lat:3.28), next =(lon:8.69 lat:3.22), est_arrive=False, trajet=(lon:8.69 lat:3.28) -> (lon:8.69 lat:3.22)\n",
      "cycliste_1 : va a la prochaine position ( au travail): {'longitude': 8.686342379012316, 'lattitude': 3.2167980081435967} \n",
      "------------------------------\n",
      "cycliste_1 : est sur un velo\n",
      "cycliste_1 : est arrive  au travail({'longitude': 8.686342379012316, 'lattitude': 3.2167980081435967})\n",
      "cycliste_1 : next trajet = maison\n",
      "station_718 : recupere le velo velo_22101\n",
      "cycliste_1 : essaie de rendre sur la station : 718 \n",
      "cycliste_1 : velo rendu sur la station sur : 718\n",
      "------------------------------\n",
      "cycliste_1 : va chercher un velo\n",
      "cycliste_1 : Go to station : 718 (lon:9.00 lat:9.00)\n",
      "current = (lon:9.00 lat:9.00), next =(lon:9.00 lat:9.00), est_arrive=True, trajet=(lon:9.00 lat:9.00) -> (lon:9.00 lat:9.00)\n",
      "cycliste_1 : essaie station : 718 \n",
      "station_718 : donne le velo velo_22101\n",
      "cycliste_1 : trouve velo velo_22101 sur station 718\n",
      "------------------------------\n"
     ]
    }
   ],
   "source": [
    "ax = False\n",
    "positions = pd.DataFrame()\n",
    "for i in range(50):\n",
    "    paris.reveil()\n",
    "    paris.draw_map()\n",
    "    positions = positions.append(paris.get_cycliste_positions())\n",
    "    print(\"-\"*30)"
   ]
  },
  {
   "cell_type": "code",
   "execution_count": 71,
   "metadata": {},
   "outputs": [
    {
     "data": {
      "text/html": [
       "<div>\n",
       "<style scoped>\n",
       "    .dataframe tbody tr th:only-of-type {\n",
       "        vertical-align: middle;\n",
       "    }\n",
       "\n",
       "    .dataframe tbody tr th {\n",
       "        vertical-align: top;\n",
       "    }\n",
       "\n",
       "    .dataframe thead th {\n",
       "        text-align: right;\n",
       "    }\n",
       "</style>\n",
       "<table border=\"1\" class=\"dataframe\">\n",
       "  <thead>\n",
       "    <tr style=\"text-align: right;\">\n",
       "      <th></th>\n",
       "    </tr>\n",
       "  </thead>\n",
       "  <tbody>\n",
       "  </tbody>\n",
       "</table>\n",
       "</div>"
      ],
      "text/plain": [
       "Empty DataFrame\n",
       "Columns: []\n",
       "Index: []"
      ]
     },
     "execution_count": 71,
     "metadata": {},
     "output_type": "execute_result"
    }
   ],
   "source": [
    "positions"
   ]
  },
  {
   "cell_type": "code",
   "execution_count": null,
   "metadata": {},
   "outputs": [],
   "source": [
    "!cat stations.csv"
   ]
  },
  {
   "cell_type": "code",
   "execution_count": null,
   "metadata": {},
   "outputs": [],
   "source": [
    "if False:\n",
    "    path_to_cyclistes = \"./cyclistes.csv\"\n",
    "    logger_ = Logger(path_to_cyclistes)\n",
    "    infos_voulues = [\"id\", \"sexe\", \"sportivite\", \"age\", \"sur_velo\"]\n",
    "    to_write      = \",\".join(infos_voulues)\n",
    "    logger_.log(to_write)\n",
    "    for cycliste in paris.cyclistes:\n",
    "        dico          = cycliste.__dict__        \n",
    "        infos         = [str(dico[voulue]) for voulue in infos_voulues]\n",
    "        to_write      = \",\".join(infos)\n",
    "        logger_.log(to_write)\n"
   ]
  },
  {
   "cell_type": "markdown",
   "metadata": {},
   "source": [
    "# Exemple de dataFrame pandas"
   ]
  },
  {
   "cell_type": "code",
   "execution_count": null,
   "metadata": {},
   "outputs": [],
   "source": [
    "logger_.write_to_disk()\n"
   ]
  },
  {
   "cell_type": "code",
   "execution_count": 31,
   "metadata": {},
   "outputs": [],
   "source": [
    "import pandas as pd"
   ]
  },
  {
   "cell_type": "code",
   "execution_count": 32,
   "metadata": {},
   "outputs": [
    {
     "ename": "NameError",
     "evalue": "name 'test_reseau' is not defined",
     "output_type": "error",
     "traceback": [
      "\u001b[0;31m---------------------------------------------------------------------------\u001b[0m",
      "\u001b[0;31mNameError\u001b[0m                                 Traceback (most recent call last)",
      "\u001b[0;32m<ipython-input-32-eff9bb672486>\u001b[0m in \u001b[0;36m<module>\u001b[0;34m()\u001b[0m\n\u001b[1;32m      2\u001b[0m \u001b[0;32mfor\u001b[0m \u001b[0mi\u001b[0m \u001b[0;32min\u001b[0m \u001b[0mrange\u001b[0m\u001b[0;34m(\u001b[0m\u001b[0;36m12\u001b[0m\u001b[0;34m)\u001b[0m\u001b[0;34m:\u001b[0m\u001b[0;34m\u001b[0m\u001b[0m\n\u001b[1;32m      3\u001b[0m     \u001b[0mseuil\u001b[0m       \u001b[0;34m=\u001b[0m \u001b[0mfloat\u001b[0m\u001b[0;34m(\u001b[0m\u001b[0mi\u001b[0m\u001b[0;34m/\u001b[0m\u001b[0;36m10\u001b[0m\u001b[0;34m)\u001b[0m\u001b[0;34m\u001b[0m\u001b[0m\n\u001b[0;32m----> 4\u001b[0;31m     \u001b[0mnb_velo\u001b[0m     \u001b[0;34m=\u001b[0m \u001b[0mtest_reseau\u001b[0m\u001b[0;34m.\u001b[0m\u001b[0mnombre_de_velos_sous_performants\u001b[0m\u001b[0;34m(\u001b[0m\u001b[0mseuil\u001b[0m\u001b[0;34m)\u001b[0m\u001b[0;34m\u001b[0m\u001b[0m\n\u001b[0m\u001b[1;32m      5\u001b[0m     \u001b[0mdico\u001b[0m\u001b[0;34m[\u001b[0m\u001b[0mseuil\u001b[0m\u001b[0;34m]\u001b[0m \u001b[0;34m=\u001b[0m \u001b[0mnb_velo\u001b[0m\u001b[0;34m\u001b[0m\u001b[0m\n",
      "\u001b[0;31mNameError\u001b[0m: name 'test_reseau' is not defined"
     ]
    }
   ],
   "source": [
    "dico = {}\n",
    "for i in range(12):\n",
    "    seuil       = float(i/10)\n",
    "    nb_velo     = test_reseau.nombre_de_velos_sous_performants(seuil)\n",
    "    dico[seuil] = nb_velo"
   ]
  },
  {
   "cell_type": "code",
   "execution_count": null,
   "metadata": {},
   "outputs": [],
   "source": [
    "%matplotlib inline\n",
    "pd.DataFrame(dico, index=range(12)).T[0].plot(kind='bar')"
   ]
  }
 ],
 "metadata": {
  "celltoolbar": "Raw Cell Format",
  "kernelspec": {
   "display_name": "Python 3",
   "language": "python",
   "name": "python3"
  },
  "language_info": {
   "codemirror_mode": {
    "name": "ipython",
    "version": 3
   },
   "file_extension": ".py",
   "mimetype": "text/x-python",
   "name": "python",
   "nbconvert_exporter": "python",
   "pygments_lexer": "ipython3",
   "version": "3.6.5"
  }
 },
 "nbformat": 4,
 "nbformat_minor": 2
}
