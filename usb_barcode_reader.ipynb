{
 "cells": [
  {
   "cell_type": "code",
   "execution_count": 34,
   "metadata": {},
   "outputs": [
    {
     "name": "stdout",
     "output_type": "stream",
     "text": [
      "fatal: not a git repository (or any of the parent directories): .git\r\n"
     ]
    }
   ],
   "source": [
    "!git status"
   ]
  },
  {
   "cell_type": "code",
   "execution_count": 14,
   "metadata": {},
   "outputs": [],
   "source": [
    "import usb.core"
   ]
  },
  {
   "cell_type": "code",
   "execution_count": 13,
   "metadata": {},
   "outputs": [
    {
     "name": "stdout",
     "output_type": "stream",
     "text": [
      "Collecting PyUSB\n",
      "  Downloading pyusb-1.0.2.tar.gz (54 kB)\n",
      "\u001b[K     |████████████████████████████████| 54 kB 76 kB/s eta 0:00:011\n",
      "\u001b[?25hBuilding wheels for collected packages: PyUSB\n",
      "  Building wheel for PyUSB (setup.py) ... \u001b[?25ldone\n",
      "\u001b[?25h  Created wheel for PyUSB: filename=pyusb-1.0.2-py3-none-any.whl size=57024 sha256=39dddd383e919e295e0ab1d48cee30cf5e35c02d39838faea3403a370fe35a2b\n",
      "  Stored in directory: /Users/romain/Library/Caches/pip/wheels/d5/f8/31/eb7d3a347e6a129fba4aa5af35ccf05433f258a383f7e5d746\n",
      "Successfully built PyUSB\n",
      "Installing collected packages: PyUSB\n",
      "Successfully installed PyUSB-1.0.2\n"
     ]
    }
   ],
   "source": [
    "!pip install PyUSB"
   ]
  },
  {
   "cell_type": "code",
   "execution_count": 7,
   "metadata": {},
   "outputs": [],
   "source": [
    "USB_Module =         {\n",
    "          \"sessionID\" : 3956812906635032,\n",
    "          \"iManufacturer\" : 1,\n",
    "          \"bNumConfigurations\" : 1,\n",
    "          \"idProduct\" : 30264,\n",
    "          \"bcdDevice\" : 0,\n",
    "          \"Bus Power Available\" : 250,\n",
    "          \"USB Address\" : 27,\n",
    "          \"bMaxPacketSize0\" : 64,\n",
    "          \"iProduct\" : 2,\n",
    "          \"iSerialNumber\" : 3,\n",
    "          \"bDeviceClass\" : 0,\n",
    "          \"Built-In\" : \"No\",\n",
    "          \"locationID\" : 337641472,\n",
    "          \"bDeviceSubClass\" : 0,\n",
    "          \"bcdUSB\" : 272,\n",
    "          \"USB Product Name\" : \"USBKey Module\",\n",
    "          \"PortNum\" : 2,\n",
    "          \"non-removable\" : \"no\",\n",
    "          \"IOCFPlugInTypes\" : {\"9dc7b780-9ec0-11d4-a54f-000a27052861\":\"IOUSBFamily.kext/Contents/PlugIns/IOUSBLib.bundle\"},\n",
    "          \"bDeviceProtocol\" : 0,\n",
    "          \"IOUserClientClass\" : \"IOUSBDeviceUserClientV2\",\n",
    "          \"IOPowerManagement\" : {\"DevicePowerState\":0,\n",
    "                                 \"CurrentPowerState\":3,\n",
    "                                 \"CapabilityFlags\":65536,\n",
    "                                 \"MaxPowerState\":4,\n",
    "                                 \"DriverPowerState\":3},\n",
    "          \"kUSBCurrentConfiguration\" : 1,\n",
    "          \"Device Speed\" : 1,\n",
    "          \"USB Vendor Name\" : \"USBKey Chip\",\n",
    "          \"idVendor\" : 8208,\n",
    "          \"IOGeneralInterest\" : \"IOCommand is not serializable\",\n",
    "          \"USB Serial Number\" : \"202730041341\",\n",
    "          \"IOClassNameOverride\" : \"IOUSBDevice\",\n",
    "        }"
   ]
  },
  {
   "cell_type": "code",
   "execution_count": 18,
   "metadata": {},
   "outputs": [],
   "source": [
    "import usb.backend"
   ]
  },
  {
   "cell_type": "code",
   "execution_count": null,
   "metadata": {},
   "outputs": [],
   "source": [
    "usb.backend"
   ]
  },
  {
   "cell_type": "code",
   "execution_count": null,
   "metadata": {},
   "outputs": [],
   "source": [
    "device"
   ]
  },
  {
   "cell_type": "code",
   "execution_count": 26,
   "metadata": {},
   "outputs": [],
   "source": [
    "import usb.core\n",
    "import usb.util\n",
    "\n",
    "VENDOR_ID = 0x0922\n",
    "PRODUCT_ID = 0x8003\n",
    "\n",
    "VENDOR_ID = USB_Module[\"idVendor\"]\n",
    "PRODUCT_ID = USB_Module[\"idProduct\"]\n",
    "\n",
    "# find the USB device\n",
    "device = usb.core.find(idVendor=VENDOR_ID,\n",
    "                       idProduct=PRODUCT_ID)\n",
    "\n"
   ]
  },
  {
   "cell_type": "code",
   "execution_count": 29,
   "metadata": {},
   "outputs": [
    {
     "name": "stdout",
     "output_type": "stream",
     "text": [
      "  CONFIGURATION 1: 400 mA ==================================\n",
      "   bLength              :    0x9 (9 bytes)\n",
      "   bDescriptorType      :    0x2 Configuration\n",
      "   wTotalLength         :   0x22 (34 bytes)\n",
      "   bNumInterfaces       :    0x1\n",
      "   bConfigurationValue  :    0x1\n",
      "   iConfiguration       :    0x0 \n",
      "   bmAttributes         :   0x80 Bus Powered\n",
      "   bMaxPower            :   0xc8 (400 mA)\n",
      "    INTERFACE 0: Human Interface Device ====================\n",
      "     bLength            :    0x9 (9 bytes)\n",
      "     bDescriptorType    :    0x4 Interface\n",
      "     bInterfaceNumber   :    0x0\n",
      "     bAlternateSetting  :    0x0\n",
      "     bNumEndpoints      :    0x1\n",
      "     bInterfaceClass    :    0x3 Human Interface Device\n",
      "     bInterfaceSubClass :    0x1\n",
      "     bInterfaceProtocol :    0x1\n",
      "     iInterface         :    0x0 \n",
      "      ENDPOINT 0x83: Interrupt IN ==========================\n",
      "       bLength          :    0x7 (7 bytes)\n",
      "       bDescriptorType  :    0x5 Endpoint\n",
      "       bEndpointAddress :   0x83 IN\n",
      "       bmAttributes     :    0x3 Interrupt\n",
      "       wMaxPacketSize   :    0x8 (8 bytes)\n",
      "       bInterval        :    0x1\n"
     ]
    }
   ],
   "source": [
    "for _ in device:\n",
    "    print(_)"
   ]
  },
  {
   "cell_type": "code",
   "execution_count": 33,
   "metadata": {},
   "outputs": [
    {
     "name": "stdout",
     "output_type": "stream",
     "text": [
      "config 1\n",
      "Interfaces 1\n",
      "0\n",
      "Operation not supported or unimplemented on this platform\n",
      "---\n"
     ]
    }
   ],
   "source": [
    "c = 1\n",
    "for config in device:\n",
    "    print ('config', c)\n",
    "    print ('Interfaces', config.bNumInterfaces)\n",
    "    for i in range(config.bNumInterfaces):\n",
    "        print (i)\n",
    "        if device.is_kernel_driver_active(i):\n",
    "            print (\"activated\")\n",
    "        try:\n",
    "            device.detach_kernel_driver(i)\n",
    "            print (\"detached\")\n",
    "        except Exception as e:\n",
    "            print(e)\n",
    "        print (\"---\")\n",
    "    c+=1\n"
   ]
  },
  {
   "cell_type": "code",
   "execution_count": null,
   "metadata": {},
   "outputs": [],
   "source": [
    "çè!à&'à''(éè(\n",
    "çè!à&'à''(éè(\n",
    "))))"
   ]
  },
  {
   "cell_type": "code",
   "execution_count": 25,
   "metadata": {},
   "outputs": [
    {
     "name": "stdout",
     "output_type": "stream",
     "text": [
      "waiting for data\n",
      "[Errno None] Other error\n",
      "waiting for data\n",
      "[Errno None] Other error\n",
      "waiting for data\n",
      "[Errno None] Other error\n",
      "waiting for data\n",
      "[Errno None] Other error\n",
      "waiting for data\n",
      "[Errno None] Other error\n",
      "waiting for data\n"
     ]
    },
    {
     "ename": "KeyboardInterrupt",
     "evalue": "",
     "output_type": "error",
     "traceback": [
      "\u001b[0;31m---------------------------------------------------------------------------\u001b[0m",
      "\u001b[0;31mKeyboardInterrupt\u001b[0m                         Traceback (most recent call last)",
      "\u001b[0;32m<ipython-input-25-a4ecb287fb68>\u001b[0m in \u001b[0;36m<module>\u001b[0;34m\u001b[0m\n\u001b[1;32m     23\u001b[0m         \u001b[0mprint\u001b[0m\u001b[0;34m(\u001b[0m\u001b[0;34m\"waiting for data\"\u001b[0m\u001b[0;34m)\u001b[0m\u001b[0;34m\u001b[0m\u001b[0;34m\u001b[0m\u001b[0m\n\u001b[1;32m     24\u001b[0m         data = device.read(endpoint.bEndpointAddress,\n\u001b[0;32m---> 25\u001b[0;31m                            endpoint.wMaxPacketSize)\n\u001b[0m\u001b[1;32m     26\u001b[0m         \u001b[0mprint\u001b[0m\u001b[0;34m(\u001b[0m\u001b[0mdata\u001b[0m\u001b[0;34m)\u001b[0m\u001b[0;34m\u001b[0m\u001b[0;34m\u001b[0m\u001b[0m\n\u001b[1;32m     27\u001b[0m     \u001b[0;32mexcept\u001b[0m \u001b[0musb\u001b[0m\u001b[0;34m.\u001b[0m\u001b[0mcore\u001b[0m\u001b[0;34m.\u001b[0m\u001b[0mUSBError\u001b[0m \u001b[0;32mas\u001b[0m \u001b[0me\u001b[0m\u001b[0;34m:\u001b[0m\u001b[0;34m\u001b[0m\u001b[0;34m\u001b[0m\u001b[0m\n",
      "\u001b[0;32m~/opt/anaconda3/lib/python3.7/site-packages/usb/core.py\u001b[0m in \u001b[0;36mread\u001b[0;34m(self, endpoint, size_or_buffer, timeout)\u001b[0m\n\u001b[1;32m    973\u001b[0m                 }\n\u001b[1;32m    974\u001b[0m \u001b[0;34m\u001b[0m\u001b[0m\n\u001b[0;32m--> 975\u001b[0;31m         \u001b[0mintf\u001b[0m\u001b[0;34m,\u001b[0m \u001b[0mep\u001b[0m \u001b[0;34m=\u001b[0m \u001b[0mself\u001b[0m\u001b[0;34m.\u001b[0m\u001b[0m_ctx\u001b[0m\u001b[0;34m.\u001b[0m\u001b[0msetup_request\u001b[0m\u001b[0;34m(\u001b[0m\u001b[0mself\u001b[0m\u001b[0;34m,\u001b[0m \u001b[0mendpoint\u001b[0m\u001b[0;34m)\u001b[0m\u001b[0;34m\u001b[0m\u001b[0;34m\u001b[0m\u001b[0m\n\u001b[0m\u001b[1;32m    976\u001b[0m         \u001b[0mfn\u001b[0m \u001b[0;34m=\u001b[0m \u001b[0mfn_map\u001b[0m\u001b[0;34m[\u001b[0m\u001b[0mutil\u001b[0m\u001b[0;34m.\u001b[0m\u001b[0mendpoint_type\u001b[0m\u001b[0;34m(\u001b[0m\u001b[0mep\u001b[0m\u001b[0;34m.\u001b[0m\u001b[0mbmAttributes\u001b[0m\u001b[0;34m)\u001b[0m\u001b[0;34m]\u001b[0m\u001b[0;34m\u001b[0m\u001b[0;34m\u001b[0m\u001b[0m\n\u001b[1;32m    977\u001b[0m \u001b[0;34m\u001b[0m\u001b[0m\n",
      "\u001b[0;32m~/opt/anaconda3/lib/python3.7/site-packages/usb/core.py\u001b[0m in \u001b[0;36mwrapper\u001b[0;34m(self, *args, **kwargs)\u001b[0m\n\u001b[1;32m    100\u001b[0m         \u001b[0;32mtry\u001b[0m\u001b[0;34m:\u001b[0m\u001b[0;34m\u001b[0m\u001b[0;34m\u001b[0m\u001b[0m\n\u001b[1;32m    101\u001b[0m             \u001b[0mself\u001b[0m\u001b[0;34m.\u001b[0m\u001b[0mlock\u001b[0m\u001b[0;34m.\u001b[0m\u001b[0macquire\u001b[0m\u001b[0;34m(\u001b[0m\u001b[0;34m)\u001b[0m\u001b[0;34m\u001b[0m\u001b[0;34m\u001b[0m\u001b[0m\n\u001b[0;32m--> 102\u001b[0;31m             \u001b[0;32mreturn\u001b[0m \u001b[0mf\u001b[0m\u001b[0;34m(\u001b[0m\u001b[0mself\u001b[0m\u001b[0;34m,\u001b[0m \u001b[0;34m*\u001b[0m\u001b[0margs\u001b[0m\u001b[0;34m,\u001b[0m \u001b[0;34m**\u001b[0m\u001b[0mkwargs\u001b[0m\u001b[0;34m)\u001b[0m\u001b[0;34m\u001b[0m\u001b[0;34m\u001b[0m\u001b[0m\n\u001b[0m\u001b[1;32m    103\u001b[0m         \u001b[0;32mfinally\u001b[0m\u001b[0;34m:\u001b[0m\u001b[0;34m\u001b[0m\u001b[0;34m\u001b[0m\u001b[0m\n\u001b[1;32m    104\u001b[0m             \u001b[0mself\u001b[0m\u001b[0;34m.\u001b[0m\u001b[0mlock\u001b[0m\u001b[0;34m.\u001b[0m\u001b[0mrelease\u001b[0m\u001b[0;34m(\u001b[0m\u001b[0;34m)\u001b[0m\u001b[0;34m\u001b[0m\u001b[0;34m\u001b[0m\u001b[0m\n",
      "\u001b[0;32m~/opt/anaconda3/lib/python3.7/site-packages/usb/core.py\u001b[0m in \u001b[0;36msetup_request\u001b[0;34m(self, device, endpoint)\u001b[0m\n\u001b[1;32m    214\u001b[0m \u001b[0;34m\u001b[0m\u001b[0m\n\u001b[1;32m    215\u001b[0m         \u001b[0mintf\u001b[0m\u001b[0;34m,\u001b[0m \u001b[0mep\u001b[0m \u001b[0;34m=\u001b[0m \u001b[0mself\u001b[0m\u001b[0;34m.\u001b[0m\u001b[0mget_interface_and_endpoint\u001b[0m\u001b[0;34m(\u001b[0m\u001b[0mdevice\u001b[0m\u001b[0;34m,\u001b[0m \u001b[0mendpoint_address\u001b[0m\u001b[0;34m)\u001b[0m\u001b[0;34m\u001b[0m\u001b[0;34m\u001b[0m\u001b[0m\n\u001b[0;32m--> 216\u001b[0;31m         \u001b[0mself\u001b[0m\u001b[0;34m.\u001b[0m\u001b[0mmanaged_claim_interface\u001b[0m\u001b[0;34m(\u001b[0m\u001b[0mdevice\u001b[0m\u001b[0;34m,\u001b[0m \u001b[0mintf\u001b[0m\u001b[0;34m)\u001b[0m\u001b[0;34m\u001b[0m\u001b[0;34m\u001b[0m\u001b[0m\n\u001b[0m\u001b[1;32m    217\u001b[0m         \u001b[0;32mreturn\u001b[0m \u001b[0;34m(\u001b[0m\u001b[0mintf\u001b[0m\u001b[0;34m,\u001b[0m \u001b[0mep\u001b[0m\u001b[0;34m)\u001b[0m\u001b[0;34m\u001b[0m\u001b[0;34m\u001b[0m\u001b[0m\n\u001b[1;32m    218\u001b[0m \u001b[0;34m\u001b[0m\u001b[0m\n",
      "\u001b[0;32m~/opt/anaconda3/lib/python3.7/site-packages/usb/core.py\u001b[0m in \u001b[0;36mwrapper\u001b[0;34m(self, *args, **kwargs)\u001b[0m\n\u001b[1;32m    100\u001b[0m         \u001b[0;32mtry\u001b[0m\u001b[0;34m:\u001b[0m\u001b[0;34m\u001b[0m\u001b[0;34m\u001b[0m\u001b[0m\n\u001b[1;32m    101\u001b[0m             \u001b[0mself\u001b[0m\u001b[0;34m.\u001b[0m\u001b[0mlock\u001b[0m\u001b[0;34m.\u001b[0m\u001b[0macquire\u001b[0m\u001b[0;34m(\u001b[0m\u001b[0;34m)\u001b[0m\u001b[0;34m\u001b[0m\u001b[0;34m\u001b[0m\u001b[0m\n\u001b[0;32m--> 102\u001b[0;31m             \u001b[0;32mreturn\u001b[0m \u001b[0mf\u001b[0m\u001b[0;34m(\u001b[0m\u001b[0mself\u001b[0m\u001b[0;34m,\u001b[0m \u001b[0;34m*\u001b[0m\u001b[0margs\u001b[0m\u001b[0;34m,\u001b[0m \u001b[0;34m**\u001b[0m\u001b[0mkwargs\u001b[0m\u001b[0;34m)\u001b[0m\u001b[0;34m\u001b[0m\u001b[0;34m\u001b[0m\u001b[0m\n\u001b[0m\u001b[1;32m    103\u001b[0m         \u001b[0;32mfinally\u001b[0m\u001b[0;34m:\u001b[0m\u001b[0;34m\u001b[0m\u001b[0;34m\u001b[0m\u001b[0m\n\u001b[1;32m    104\u001b[0m             \u001b[0mself\u001b[0m\u001b[0;34m.\u001b[0m\u001b[0mlock\u001b[0m\u001b[0;34m.\u001b[0m\u001b[0mrelease\u001b[0m\u001b[0;34m(\u001b[0m\u001b[0;34m)\u001b[0m\u001b[0;34m\u001b[0m\u001b[0;34m\u001b[0m\u001b[0m\n",
      "\u001b[0;32m~/opt/anaconda3/lib/python3.7/site-packages/usb/core.py\u001b[0m in \u001b[0;36mmanaged_claim_interface\u001b[0;34m(self, device, intf)\u001b[0m\n\u001b[1;32m    165\u001b[0m \u001b[0;34m\u001b[0m\u001b[0m\n\u001b[1;32m    166\u001b[0m         \u001b[0;32mif\u001b[0m \u001b[0mi\u001b[0m \u001b[0;32mnot\u001b[0m \u001b[0;32min\u001b[0m \u001b[0mself\u001b[0m\u001b[0;34m.\u001b[0m\u001b[0m_claimed_intf\u001b[0m\u001b[0;34m:\u001b[0m\u001b[0;34m\u001b[0m\u001b[0;34m\u001b[0m\u001b[0m\n\u001b[0;32m--> 167\u001b[0;31m             \u001b[0mself\u001b[0m\u001b[0;34m.\u001b[0m\u001b[0mbackend\u001b[0m\u001b[0;34m.\u001b[0m\u001b[0mclaim_interface\u001b[0m\u001b[0;34m(\u001b[0m\u001b[0mself\u001b[0m\u001b[0;34m.\u001b[0m\u001b[0mhandle\u001b[0m\u001b[0;34m,\u001b[0m \u001b[0mi\u001b[0m\u001b[0;34m)\u001b[0m\u001b[0;34m\u001b[0m\u001b[0;34m\u001b[0m\u001b[0m\n\u001b[0m\u001b[1;32m    168\u001b[0m             \u001b[0mself\u001b[0m\u001b[0;34m.\u001b[0m\u001b[0m_claimed_intf\u001b[0m\u001b[0;34m.\u001b[0m\u001b[0madd\u001b[0m\u001b[0;34m(\u001b[0m\u001b[0mi\u001b[0m\u001b[0;34m)\u001b[0m\u001b[0;34m\u001b[0m\u001b[0;34m\u001b[0m\u001b[0m\n\u001b[1;32m    169\u001b[0m \u001b[0;34m\u001b[0m\u001b[0m\n",
      "\u001b[0;32m~/opt/anaconda3/lib/python3.7/site-packages/usb/backend/libusb1.py\u001b[0m in \u001b[0;36mclaim_interface\u001b[0;34m(self, dev_handle, intf)\u001b[0m\n\u001b[1;32m    809\u001b[0m     \u001b[0;34m@\u001b[0m\u001b[0mmethodtrace\u001b[0m\u001b[0;34m(\u001b[0m\u001b[0m_logger\u001b[0m\u001b[0;34m)\u001b[0m\u001b[0;34m\u001b[0m\u001b[0;34m\u001b[0m\u001b[0m\n\u001b[1;32m    810\u001b[0m     \u001b[0;32mdef\u001b[0m \u001b[0mclaim_interface\u001b[0m\u001b[0;34m(\u001b[0m\u001b[0mself\u001b[0m\u001b[0;34m,\u001b[0m \u001b[0mdev_handle\u001b[0m\u001b[0;34m,\u001b[0m \u001b[0mintf\u001b[0m\u001b[0;34m)\u001b[0m\u001b[0;34m:\u001b[0m\u001b[0;34m\u001b[0m\u001b[0;34m\u001b[0m\u001b[0m\n\u001b[0;32m--> 811\u001b[0;31m         \u001b[0m_check\u001b[0m\u001b[0;34m(\u001b[0m\u001b[0mself\u001b[0m\u001b[0;34m.\u001b[0m\u001b[0mlib\u001b[0m\u001b[0;34m.\u001b[0m\u001b[0mlibusb_claim_interface\u001b[0m\u001b[0;34m(\u001b[0m\u001b[0mdev_handle\u001b[0m\u001b[0;34m.\u001b[0m\u001b[0mhandle\u001b[0m\u001b[0;34m,\u001b[0m \u001b[0mintf\u001b[0m\u001b[0;34m)\u001b[0m\u001b[0;34m)\u001b[0m\u001b[0;34m\u001b[0m\u001b[0;34m\u001b[0m\u001b[0m\n\u001b[0m\u001b[1;32m    812\u001b[0m \u001b[0;34m\u001b[0m\u001b[0m\n\u001b[1;32m    813\u001b[0m     \u001b[0;34m@\u001b[0m\u001b[0mmethodtrace\u001b[0m\u001b[0;34m(\u001b[0m\u001b[0m_logger\u001b[0m\u001b[0;34m)\u001b[0m\u001b[0;34m\u001b[0m\u001b[0;34m\u001b[0m\u001b[0m\n",
      "\u001b[0;31mKeyboardInterrupt\u001b[0m: "
     ]
    }
   ],
   "source": [
    "import usb.core\n",
    "import usb.util\n",
    "\n",
    "VENDOR_ID = 0x0922\n",
    "PRODUCT_ID = 0x8003\n",
    "\n",
    "VENDOR_ID = USB_Module[\"idVendor\"]\n",
    "PRODUCT_ID = USB_Module[\"idProduct\"]\n",
    "\n",
    "# find the USB device\n",
    "device = usb.core.find(idVendor=VENDOR_ID,\n",
    "                       idProduct=PRODUCT_ID)\n",
    "\n",
    "# use the first/default configuration\n",
    "device.set_configuration()\n",
    "# first endpoint\n",
    "endpoint = device[0][(0,0)][0]\n",
    "# read a data packet\n",
    "attempts = 10\n",
    "data = None\n",
    "while data is None and attempts > 0:\n",
    "    try:\n",
    "        print(\"waiting for data\")\n",
    "        data = device.read(endpoint.bEndpointAddress,\n",
    "                           endpoint.wMaxPacketSize)\n",
    "        print(data)\n",
    "    except usb.core.USBError as e:\n",
    "        data = None\n",
    "        if e.args == ('Operation timed out',):\n",
    "            attempts -= 1\n",
    "            continue\n",
    "        print(e)\n",
    "\n",
    "print (data)"
   ]
  },
  {
   "cell_type": "markdown",
   "metadata": {},
   "source": [
    "##### device"
   ]
  },
  {
   "cell_type": "code",
   "execution_count": 22,
   "metadata": {},
   "outputs": [
    {
     "data": {
      "text/plain": [
       "<ENDPOINT 0x83: Interrupt IN>"
      ]
     },
     "execution_count": 22,
     "metadata": {},
     "output_type": "execute_result"
    }
   ],
   "source": [
    "endpoint"
   ]
  },
  {
   "cell_type": "code",
   "execution_count": null,
   "metadata": {},
   "outputs": [],
   "source": []
  }
 ],
 "metadata": {
  "kernelspec": {
   "display_name": "Python 3",
   "language": "python",
   "name": "python3"
  },
  "language_info": {
   "codemirror_mode": {
    "name": "ipython",
    "version": 3
   },
   "file_extension": ".py",
   "mimetype": "text/x-python",
   "name": "python",
   "nbconvert_exporter": "python",
   "pygments_lexer": "ipython3",
   "version": "3.7.4"
  }
 },
 "nbformat": 4,
 "nbformat_minor": 4
}
